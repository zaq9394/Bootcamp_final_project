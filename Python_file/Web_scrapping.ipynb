{
 "cells": [
  {
   "cell_type": "code",
   "execution_count": null,
   "id": "61580844",
   "metadata": {},
   "outputs": [],
   "source": [
    "from bs4 import BeautifulSoup\n",
    "import requests\n",
    "import pandas as pd\n",
    "import re\n",
    "import time"
   ]
  },
  {
   "cell_type": "code",
   "execution_count": null,
   "id": "615a0c94",
   "metadata": {},
   "outputs": [],
   "source": [
    "from time import sleep\n",
    "from random import randint"
   ]
  },
  {
   "cell_type": "code",
   "execution_count": null,
   "id": "540e1fa6",
   "metadata": {},
   "outputs": [],
   "source": [
    "# webscrapping"
   ]
  },
  {
   "cell_type": "code",
   "execution_count": null,
   "id": "8d485f99",
   "metadata": {
    "scrolled": true
   },
   "outputs": [],
   "source": [
    "header={\"User-Agent\": \"Mozilla/5.0 (Windows NT 10.0; Win64; x64) AppleWebKit/537.36 (KHTML, like Gecko) Chrome/104.0.0.0 Safari/537.36\", \"Accept-Encoding\": \"gzip, deflate\", \n",
    "    \"Accept-Language\": \"en-US\", \n",
    "    \"Accept\": \"text/html,application/xhtml+xml,application/xml;q=0.9,image/avif,image/webp,image/apng,*/*;q=0.8,application/signed-exchange;v=b3;q=0.9\", \n",
    "    \"Upgrade-Insecure-Requests\": \"1\" }\n",
    "\n",
    "pages = []\n",
    "\n",
    "for i in range(1,501):\n",
    "    start_at= str(i)\n",
    "    url = \"https://www.amazon.com/Apple-iPhone-XR-Fully-Unlocked/product-reviews/B07P6Y7954/ref=cm_cr_getr_d_paging_btm_prev_1?ie=UTF8&reviewerType=all_reviews&pageNumber=\" + start_at     \n",
    "    page=requests.get(url,headers=header)\n",
    "    print(page.status_code)\n",
    "    pages.append(page)\n",
    "    \n",
    "    wait_time = randint(1,3)\n",
    "    print(\"I will sleep for \" + str(wait_time) + \" second/s.\")\n",
    "    sleep(wait_time)\n",
    "\n",
    "\n"
   ]
  },
  {
   "cell_type": "code",
   "execution_count": null,
   "id": "c5fb1e3f",
   "metadata": {},
   "outputs": [],
   "source": [
    "text=[]\n",
    "\n",
    "for i in range(len(pages)):\n",
    "    # parse all pages\n",
    "    parsed = BeautifulSoup(pages[i].content, \"html.parser\")\n",
    "    page_content=parsed.select('div.a-row.a-spacing-small.review-data > span')\n",
    "    for j in range(len(page_content)):\n",
    "        text.append(re.sub('\\n','',page_content[j].get_text()))\n",
    "        "
   ]
  },
  {
   "cell_type": "code",
   "execution_count": null,
   "id": "1b55bde6",
   "metadata": {},
   "outputs": [],
   "source": [
    "# convert the text to dataframe"
   ]
  },
  {
   "cell_type": "code",
   "execution_count": null,
   "id": "dce90eae",
   "metadata": {},
   "outputs": [],
   "source": [
    "review=pd.DataFrame({'text':text})"
   ]
  },
  {
   "cell_type": "code",
   "execution_count": null,
   "id": "9d2898fa",
   "metadata": {},
   "outputs": [],
   "source": [
    "review"
   ]
  },
  {
   "cell_type": "code",
   "execution_count": null,
   "id": "5fae461c",
   "metadata": {},
   "outputs": [],
   "source": [
    "# output dataframe to csv format "
   ]
  },
  {
   "cell_type": "code",
   "execution_count": null,
   "id": "a227259d",
   "metadata": {},
   "outputs": [],
   "source": [
    "review.to_csv('Amazon_web_scrapping.csv')"
   ]
  },
  {
   "cell_type": "code",
   "execution_count": null,
   "id": "2fc4b751",
   "metadata": {},
   "outputs": [],
   "source": [
    "# create a function to get the review "
   ]
  },
  {
   "cell_type": "code",
   "execution_count": null,
   "id": "06ec328d",
   "metadata": {},
   "outputs": [],
   "source": [
    "def get_review(link):\n",
    "    text1=[]\n",
    "    i=1\n",
    "    while(1):\n",
    "        start_at= str(i)\n",
    "        url=''.join(re.findall('[^\\s]+pageNumber=',link))+start_at\n",
    "        page=requests.get(url,headers=header)\n",
    "        parsed = BeautifulSoup(page.content, \"html.parser\")\n",
    "        if parsed.select('div.a-row.a-spacing-small.review-data > span'):\n",
    "            page_content=parsed.select('div.a-row.a-spacing-small.review-data > span')\n",
    "            for j in range(len(page_content)):\n",
    "                text1.append(re.sub('\\n','',page_content[j].get_text()))\n",
    "            i+=1\n",
    "            wait_time = randint(1,2)\n",
    "            print(\"I will sleep for \" + str(wait_time) + \" second/s.\")\n",
    "            sleep(wait_time)\n",
    "        else:\n",
    "            break\n",
    "    return text1\n",
    "    "
   ]
  },
  {
   "cell_type": "code",
   "execution_count": null,
   "id": "d085eb13",
   "metadata": {},
   "outputs": [],
   "source": [
    "text2=get_review('https://www.amazon.com/Apple-iPhone-64GB-Space-Gray/product-reviews/B08BHTPV2T/ref=cm_cr_getr_d_paging_btm_next_2?ie=UTF8&reviewerType=all_reviews&pageNumber=1')"
   ]
  }
 ],
 "metadata": {
  "kernelspec": {
   "display_name": "Python 3 (ipykernel)",
   "language": "python",
   "name": "python3"
  },
  "language_info": {
   "codemirror_mode": {
    "name": "ipython",
    "version": 3
   },
   "file_extension": ".py",
   "mimetype": "text/x-python",
   "name": "python",
   "nbconvert_exporter": "python",
   "pygments_lexer": "ipython3",
   "version": "3.9.12"
  }
 },
 "nbformat": 4,
 "nbformat_minor": 5
}
