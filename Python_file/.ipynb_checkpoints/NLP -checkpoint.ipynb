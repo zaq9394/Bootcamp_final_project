{
 "cells": [
  {
   "cell_type": "code",
   "execution_count": 1,
   "id": "d3ab280d",
   "metadata": {},
   "outputs": [],
   "source": [
    "import pandas as pd\n",
    "import nltk\n",
    "from nltk.stem import WordNetLemmatizer \n",
    "from nltk.corpus import stopwords\n",
    "from sklearn.feature_extraction.text import CountVectorizer\n",
    "import re\n",
    "from nltk.tokenize import word_tokenize\n",
    "import numpy as np\n",
    "from nltk.stem import PorterStemmer \n",
    "import seaborn as sns\n",
    "import matplotlib.pyplot as plt"
   ]
  },
  {
   "cell_type": "code",
   "execution_count": 3,
   "id": "c0ae911f",
   "metadata": {},
   "outputs": [],
   "source": [
    "#import dataset\n",
    "data=pd.read_csv(r'C:\\Users\\Admin\\IH-Labs\\Bootcamp_final_project\\csv_file\\fake reviews dataset.csv')"
   ]
  },
  {
   "cell_type": "code",
   "execution_count": 4,
   "id": "dc52858a",
   "metadata": {},
   "outputs": [
    {
     "data": {
      "text/html": [
       "<div>\n",
       "<style scoped>\n",
       "    .dataframe tbody tr th:only-of-type {\n",
       "        vertical-align: middle;\n",
       "    }\n",
       "\n",
       "    .dataframe tbody tr th {\n",
       "        vertical-align: top;\n",
       "    }\n",
       "\n",
       "    .dataframe thead th {\n",
       "        text-align: right;\n",
       "    }\n",
       "</style>\n",
       "<table border=\"1\" class=\"dataframe\">\n",
       "  <thead>\n",
       "    <tr style=\"text-align: right;\">\n",
       "      <th></th>\n",
       "      <th>category</th>\n",
       "      <th>rating</th>\n",
       "      <th>label</th>\n",
       "      <th>text_</th>\n",
       "    </tr>\n",
       "  </thead>\n",
       "  <tbody>\n",
       "    <tr>\n",
       "      <th>0</th>\n",
       "      <td>Home_and_Kitchen_5</td>\n",
       "      <td>5.0</td>\n",
       "      <td>CG</td>\n",
       "      <td>Love this!  Well made, sturdy, and very comfor...</td>\n",
       "    </tr>\n",
       "    <tr>\n",
       "      <th>1</th>\n",
       "      <td>Home_and_Kitchen_5</td>\n",
       "      <td>5.0</td>\n",
       "      <td>CG</td>\n",
       "      <td>love it, a great upgrade from the original.  I...</td>\n",
       "    </tr>\n",
       "    <tr>\n",
       "      <th>2</th>\n",
       "      <td>Home_and_Kitchen_5</td>\n",
       "      <td>5.0</td>\n",
       "      <td>CG</td>\n",
       "      <td>This pillow saved my back. I love the look and...</td>\n",
       "    </tr>\n",
       "    <tr>\n",
       "      <th>3</th>\n",
       "      <td>Home_and_Kitchen_5</td>\n",
       "      <td>1.0</td>\n",
       "      <td>CG</td>\n",
       "      <td>Missing information on how to use it, but it i...</td>\n",
       "    </tr>\n",
       "    <tr>\n",
       "      <th>4</th>\n",
       "      <td>Home_and_Kitchen_5</td>\n",
       "      <td>5.0</td>\n",
       "      <td>CG</td>\n",
       "      <td>Very nice set. Good quality. We have had the s...</td>\n",
       "    </tr>\n",
       "  </tbody>\n",
       "</table>\n",
       "</div>"
      ],
      "text/plain": [
       "             category  rating label  \\\n",
       "0  Home_and_Kitchen_5     5.0    CG   \n",
       "1  Home_and_Kitchen_5     5.0    CG   \n",
       "2  Home_and_Kitchen_5     5.0    CG   \n",
       "3  Home_and_Kitchen_5     1.0    CG   \n",
       "4  Home_and_Kitchen_5     5.0    CG   \n",
       "\n",
       "                                               text_  \n",
       "0  Love this!  Well made, sturdy, and very comfor...  \n",
       "1  love it, a great upgrade from the original.  I...  \n",
       "2  This pillow saved my back. I love the look and...  \n",
       "3  Missing information on how to use it, but it i...  \n",
       "4  Very nice set. Good quality. We have had the s...  "
      ]
     },
     "execution_count": 4,
     "metadata": {},
     "output_type": "execute_result"
    }
   ],
   "source": [
    "data.head()"
   ]
  },
  {
   "cell_type": "code",
   "execution_count": 70,
   "id": "20e11dd2",
   "metadata": {},
   "outputs": [
    {
     "data": {
      "text/plain": [
       "Text(0.5, 1.0, 'label of review')"
      ]
     },
     "execution_count": 70,
     "metadata": {},
     "output_type": "execute_result"
    },
    {
     "data": {
      "image/png": "[encoded data removed]",
      "text/plain": [
       "<Figure size 432x288 with 1 Axes>"
      ]
     },
     "metadata": {},
     "output_type": "display_data"
    }
   ],
   "source": [
    "# use a pie plot to find out the distribution of the label\n",
    "sorted_counts = data['label'].value_counts()\n",
    "plt.pie(sorted_counts, labels = sorted_counts.index, startangle = 90,\n",
    "        counterclock = False);\n",
    "plt.title('label of review')"
   ]
  },
  {
   "cell_type": "code",
   "execution_count": 74,
   "id": "bba734da",
   "metadata": {},
   "outputs": [],
   "source": [
    "# rename the label\n",
    "data.label=np.where(data.label=='CG',0,1)"
   ]
  },
  {
   "cell_type": "code",
   "execution_count": 75,
   "id": "eada26d1",
   "metadata": {},
   "outputs": [
    {
     "data": {
      "text/plain": [
       "1    20215\n",
       "0    20205\n",
       "Name: label, dtype: int64"
      ]
     },
     "execution_count": 75,
     "metadata": {},
     "output_type": "execute_result"
    }
   ],
   "source": [
    "data.label.value_counts()"
   ]
  },
  {
   "cell_type": "code",
   "execution_count": 76,
   "id": "8555fb36",
   "metadata": {},
   "outputs": [],
   "source": [
    "# drop duplicates and check if there are any NaN values\n",
    "data=data.drop_duplicates(keep='first')"
   ]
  },
  {
   "cell_type": "code",
   "execution_count": 77,
   "id": "9ff97907",
   "metadata": {},
   "outputs": [
    {
     "data": {
      "text/plain": [
       "1    20215\n",
       "0    20205\n",
       "Name: label, dtype: int64"
      ]
     },
     "execution_count": 77,
     "metadata": {},
     "output_type": "execute_result"
    }
   ],
   "source": [
    "data.label.value_counts()"
   ]
  },
  {
   "cell_type": "code",
   "execution_count": 10,
   "id": "e9741406",
   "metadata": {},
   "outputs": [
    {
     "data": {
      "text/plain": [
       "category    0\n",
       "rating      0\n",
       "label       0\n",
       "text_       0\n",
       "dtype: int64"
      ]
     },
     "execution_count": 10,
     "metadata": {},
     "output_type": "execute_result"
    }
   ],
   "source": [
    "data.isna().sum()"
   ]
  },
  {
   "cell_type": "code",
   "execution_count": 11,
   "id": "004f89fa",
   "metadata": {},
   "outputs": [],
   "source": [
    "data_sample=data.sample(30000)"
   ]
  },
  {
   "cell_type": "code",
   "execution_count": 12,
   "id": "e4eeb61f",
   "metadata": {},
   "outputs": [],
   "source": [
    "# Renaming text column\n",
    "data_sample = data_sample.rename(columns = {'text_': 'text'})"
   ]
  },
  {
   "cell_type": "code",
   "execution_count": 13,
   "id": "07dc1349",
   "metadata": {},
   "outputs": [],
   "source": [
    "# Function to clean lower, links, RT, blanks, etc.\n",
    "\n",
    "def clean_up(s):\n",
    "    s = re.sub(r'http\\S+', '', s)\n",
    "    s = re.sub(r'\\d+','',s)\n",
    "    s = re.sub('RT', ' ', s)\n",
    "    s = re.sub(r'\\W+',' ',s).strip()\n",
    "    s = s.lower()\n",
    "    return s"
   ]
  },
  {
   "cell_type": "code",
   "execution_count": 14,
   "id": "5b20079a",
   "metadata": {},
   "outputs": [],
   "source": [
    "# Function to tokenize words\n",
    "def tokenize(s):\n",
    "    tokens = word_tokenize(s)    \n",
    "    return tokens"
   ]
  },
  {
   "cell_type": "code",
   "execution_count": 15,
   "id": "4402c1d1",
   "metadata": {},
   "outputs": [],
   "source": [
    "# Function for stemming and lemmatizing\n",
    "def stem_and_lemmatize(l):\n",
    "    l_stem_lem = []\n",
    "    ps = PorterStemmer()\n",
    "    lm = WordNetLemmatizer()\n",
    "    for w in l:\n",
    "        w = ps.stem(w)\n",
    "        w = lm.lemmatize(w)\n",
    "        l_stem_lem.append(w)\n",
    "    return l_stem_lem"
   ]
  },
  {
   "cell_type": "code",
   "execution_count": 16,
   "id": "ca324c6d",
   "metadata": {},
   "outputs": [],
   "source": [
    "# Function to remove 'stop words'\n",
    "def remove_stopwords(l):\n",
    "    stop_words = set(stopwords.words('english')) \n",
    "    return [word for word in l if word not in stop_words]"
   ]
  },
  {
   "cell_type": "code",
   "execution_count": 17,
   "id": "b734a475",
   "metadata": {},
   "outputs": [
    {
     "name": "stdout",
     "output_type": "stream",
     "text": [
      "1 done\n",
      "CPU times: total: 1.25 s\n",
      "Wall time: 1.35 s\n"
     ]
    },
    {
     "data": {
      "text/html": [
       "<div>\n",
       "<style scoped>\n",
       "    .dataframe tbody tr th:only-of-type {\n",
       "        vertical-align: middle;\n",
       "    }\n",
       "\n",
       "    .dataframe tbody tr th {\n",
       "        vertical-align: top;\n",
       "    }\n",
       "\n",
       "    .dataframe thead th {\n",
       "        text-align: right;\n",
       "    }\n",
       "</style>\n",
       "<table border=\"1\" class=\"dataframe\">\n",
       "  <thead>\n",
       "    <tr style=\"text-align: right;\">\n",
       "      <th></th>\n",
       "      <th>category</th>\n",
       "      <th>rating</th>\n",
       "      <th>label</th>\n",
       "      <th>text</th>\n",
       "      <th>text_processed</th>\n",
       "    </tr>\n",
       "  </thead>\n",
       "  <tbody>\n",
       "    <tr>\n",
       "      <th>26904</th>\n",
       "      <td>Kindle_Store_5</td>\n",
       "      <td>5.0</td>\n",
       "      <td>1</td>\n",
       "      <td>This was the second book in the Love by Design...</td>\n",
       "      <td>this was the second book in the love by design...</td>\n",
       "    </tr>\n",
       "    <tr>\n",
       "      <th>4417</th>\n",
       "      <td>Sports_and_Outdoors_5</td>\n",
       "      <td>4.0</td>\n",
       "      <td>1</td>\n",
       "      <td>this thing is great.  I would appreciate it if...</td>\n",
       "      <td>this thing is great i would appreciate it if i...</td>\n",
       "    </tr>\n",
       "    <tr>\n",
       "      <th>15772</th>\n",
       "      <td>Tools_and_Home_Improvement_5</td>\n",
       "      <td>3.0</td>\n",
       "      <td>0</td>\n",
       "      <td>not sure who designed this; it looks nice and ...</td>\n",
       "      <td>not sure who designed this it looks nice and t...</td>\n",
       "    </tr>\n",
       "    <tr>\n",
       "      <th>9498</th>\n",
       "      <td>Electronics_5</td>\n",
       "      <td>3.0</td>\n",
       "      <td>1</td>\n",
       "      <td>Connections are light duty and can break as mi...</td>\n",
       "      <td>connections are light duty and can break as mi...</td>\n",
       "    </tr>\n",
       "    <tr>\n",
       "      <th>29211</th>\n",
       "      <td>Books_5</td>\n",
       "      <td>1.0</td>\n",
       "      <td>1</td>\n",
       "      <td>I put this book down after reading first few c...</td>\n",
       "      <td>i put this book down after reading first few c...</td>\n",
       "    </tr>\n",
       "  </tbody>\n",
       "</table>\n",
       "</div>"
      ],
      "text/plain": [
       "                           category  rating  label  \\\n",
       "26904                Kindle_Store_5     5.0      1   \n",
       "4417          Sports_and_Outdoors_5     4.0      1   \n",
       "15772  Tools_and_Home_Improvement_5     3.0      0   \n",
       "9498                  Electronics_5     3.0      1   \n",
       "29211                       Books_5     1.0      1   \n",
       "\n",
       "                                                    text  \\\n",
       "26904  This was the second book in the Love by Design...   \n",
       "4417   this thing is great.  I would appreciate it if...   \n",
       "15772  not sure who designed this; it looks nice and ...   \n",
       "9498   Connections are light duty and can break as mi...   \n",
       "29211  I put this book down after reading first few c...   \n",
       "\n",
       "                                          text_processed  \n",
       "26904  this was the second book in the love by design...  \n",
       "4417   this thing is great i would appreciate it if i...  \n",
       "15772  not sure who designed this it looks nice and t...  \n",
       "9498   connections are light duty and can break as mi...  \n",
       "29211  i put this book down after reading first few c...  "
      ]
     },
     "execution_count": 17,
     "metadata": {},
     "output_type": "execute_result"
    }
   ],
   "source": [
    "%%time\n",
    "data_sample[\"text_processed\"]=data_sample[\"text\"].apply(clean_up)\n",
    "print('1 done')\n",
    "\n",
    "data_sample.head()"
   ]
  },
  {
   "cell_type": "code",
   "execution_count": 18,
   "id": "c4c96f30",
   "metadata": {},
   "outputs": [
    {
     "name": "stdout",
     "output_type": "stream",
     "text": [
      "1 done\n",
      "CPU times: total: 8.42 s\n",
      "Wall time: 8.88 s\n"
     ]
    }
   ],
   "source": [
    "%%time\n",
    "data_sample['text_processed']=data_sample['text_processed'].apply(tokenize)\n",
    "print('1 done')"
   ]
  },
  {
   "cell_type": "code",
   "execution_count": 19,
   "id": "56a95e69",
   "metadata": {},
   "outputs": [
    {
     "data": {
      "text/html": [
       "<div>\n",
       "<style scoped>\n",
       "    .dataframe tbody tr th:only-of-type {\n",
       "        vertical-align: middle;\n",
       "    }\n",
       "\n",
       "    .dataframe tbody tr th {\n",
       "        vertical-align: top;\n",
       "    }\n",
       "\n",
       "    .dataframe thead th {\n",
       "        text-align: right;\n",
       "    }\n",
       "</style>\n",
       "<table border=\"1\" class=\"dataframe\">\n",
       "  <thead>\n",
       "    <tr style=\"text-align: right;\">\n",
       "      <th></th>\n",
       "      <th>category</th>\n",
       "      <th>rating</th>\n",
       "      <th>label</th>\n",
       "      <th>text</th>\n",
       "      <th>text_processed</th>\n",
       "    </tr>\n",
       "  </thead>\n",
       "  <tbody>\n",
       "    <tr>\n",
       "      <th>26904</th>\n",
       "      <td>Kindle_Store_5</td>\n",
       "      <td>5.0</td>\n",
       "      <td>1</td>\n",
       "      <td>This was the second book in the Love by Design...</td>\n",
       "      <td>[this, was, the, second, book, in, the, love, ...</td>\n",
       "    </tr>\n",
       "    <tr>\n",
       "      <th>4417</th>\n",
       "      <td>Sports_and_Outdoors_5</td>\n",
       "      <td>4.0</td>\n",
       "      <td>1</td>\n",
       "      <td>this thing is great.  I would appreciate it if...</td>\n",
       "      <td>[this, thing, is, great, i, would, appreciate,...</td>\n",
       "    </tr>\n",
       "    <tr>\n",
       "      <th>15772</th>\n",
       "      <td>Tools_and_Home_Improvement_5</td>\n",
       "      <td>3.0</td>\n",
       "      <td>0</td>\n",
       "      <td>not sure who designed this; it looks nice and ...</td>\n",
       "      <td>[not, sure, who, designed, this, it, looks, ni...</td>\n",
       "    </tr>\n",
       "    <tr>\n",
       "      <th>9498</th>\n",
       "      <td>Electronics_5</td>\n",
       "      <td>3.0</td>\n",
       "      <td>1</td>\n",
       "      <td>Connections are light duty and can break as mi...</td>\n",
       "      <td>[connections, are, light, duty, and, can, brea...</td>\n",
       "    </tr>\n",
       "    <tr>\n",
       "      <th>29211</th>\n",
       "      <td>Books_5</td>\n",
       "      <td>1.0</td>\n",
       "      <td>1</td>\n",
       "      <td>I put this book down after reading first few c...</td>\n",
       "      <td>[i, put, this, book, down, after, reading, fir...</td>\n",
       "    </tr>\n",
       "    <tr>\n",
       "      <th>...</th>\n",
       "      <td>...</td>\n",
       "      <td>...</td>\n",
       "      <td>...</td>\n",
       "      <td>...</td>\n",
       "      <td>...</td>\n",
       "    </tr>\n",
       "    <tr>\n",
       "      <th>10574</th>\n",
       "      <td>Electronics_5</td>\n",
       "      <td>4.0</td>\n",
       "      <td>0</td>\n",
       "      <td>I'm nowhere near a computer expert, but I'd sa...</td>\n",
       "      <td>[i, m, nowhere, near, a, computer, expert, but...</td>\n",
       "    </tr>\n",
       "    <tr>\n",
       "      <th>4024</th>\n",
       "      <td>Home_and_Kitchen_5</td>\n",
       "      <td>3.0</td>\n",
       "      <td>0</td>\n",
       "      <td>Purchased this product for a small house and i...</td>\n",
       "      <td>[purchased, this, product, for, a, small, hous...</td>\n",
       "    </tr>\n",
       "    <tr>\n",
       "      <th>14142</th>\n",
       "      <td>Movies_and_TV_5</td>\n",
       "      <td>5.0</td>\n",
       "      <td>1</td>\n",
       "      <td>I have many different workouts but this DVD is...</td>\n",
       "      <td>[i, have, many, different, workouts, but, this...</td>\n",
       "    </tr>\n",
       "    <tr>\n",
       "      <th>16964</th>\n",
       "      <td>Tools_and_Home_Improvement_5</td>\n",
       "      <td>4.0</td>\n",
       "      <td>0</td>\n",
       "      <td>Good value for the money.It's a very good flas...</td>\n",
       "      <td>[good, value, for, the, money, it, s, a, very,...</td>\n",
       "    </tr>\n",
       "    <tr>\n",
       "      <th>8864</th>\n",
       "      <td>Electronics_5</td>\n",
       "      <td>5.0</td>\n",
       "      <td>1</td>\n",
       "      <td>they work as advertised. I installed one on my...</td>\n",
       "      <td>[they, work, as, advertised, i, installed, one...</td>\n",
       "    </tr>\n",
       "  </tbody>\n",
       "</table>\n",
       "<p>30000 rows × 5 columns</p>\n",
       "</div>"
      ],
      "text/plain": [
       "                           category  rating  label  \\\n",
       "26904                Kindle_Store_5     5.0      1   \n",
       "4417          Sports_and_Outdoors_5     4.0      1   \n",
       "15772  Tools_and_Home_Improvement_5     3.0      0   \n",
       "9498                  Electronics_5     3.0      1   \n",
       "29211                       Books_5     1.0      1   \n",
       "...                             ...     ...    ...   \n",
       "10574                 Electronics_5     4.0      0   \n",
       "4024             Home_and_Kitchen_5     3.0      0   \n",
       "14142               Movies_and_TV_5     5.0      1   \n",
       "16964  Tools_and_Home_Improvement_5     4.0      0   \n",
       "8864                  Electronics_5     5.0      1   \n",
       "\n",
       "                                                    text  \\\n",
       "26904  This was the second book in the Love by Design...   \n",
       "4417   this thing is great.  I would appreciate it if...   \n",
       "15772  not sure who designed this; it looks nice and ...   \n",
       "9498   Connections are light duty and can break as mi...   \n",
       "29211  I put this book down after reading first few c...   \n",
       "...                                                  ...   \n",
       "10574  I'm nowhere near a computer expert, but I'd sa...   \n",
       "4024   Purchased this product for a small house and i...   \n",
       "14142  I have many different workouts but this DVD is...   \n",
       "16964  Good value for the money.It's a very good flas...   \n",
       "8864   they work as advertised. I installed one on my...   \n",
       "\n",
       "                                          text_processed  \n",
       "26904  [this, was, the, second, book, in, the, love, ...  \n",
       "4417   [this, thing, is, great, i, would, appreciate,...  \n",
       "15772  [not, sure, who, designed, this, it, looks, ni...  \n",
       "9498   [connections, are, light, duty, and, can, brea...  \n",
       "29211  [i, put, this, book, down, after, reading, fir...  \n",
       "...                                                  ...  \n",
       "10574  [i, m, nowhere, near, a, computer, expert, but...  \n",
       "4024   [purchased, this, product, for, a, small, hous...  \n",
       "14142  [i, have, many, different, workouts, but, this...  \n",
       "16964  [good, value, for, the, money, it, s, a, very,...  \n",
       "8864   [they, work, as, advertised, i, installed, one...  \n",
       "\n",
       "[30000 rows x 5 columns]"
      ]
     },
     "execution_count": 19,
     "metadata": {},
     "output_type": "execute_result"
    }
   ],
   "source": [
    "data_sample"
   ]
  },
  {
   "cell_type": "code",
   "execution_count": 20,
   "id": "0b394822",
   "metadata": {},
   "outputs": [],
   "source": [
    "#calculate the length of the text\n",
    "def length_of_view(l):\n",
    "    length=len(l)\n",
    "    return length\n",
    "    "
   ]
  },
  {
   "cell_type": "code",
   "execution_count": 21,
   "id": "faef2f1c",
   "metadata": {},
   "outputs": [],
   "source": [
    "data_sample['length']=data_sample['text_processed'].apply(length_of_view)"
   ]
  },
  {
   "cell_type": "code",
   "execution_count": 22,
   "id": "577a5d88",
   "metadata": {},
   "outputs": [
    {
     "data": {
      "text/html": [
       "<div>\n",
       "<style scoped>\n",
       "    .dataframe tbody tr th:only-of-type {\n",
       "        vertical-align: middle;\n",
       "    }\n",
       "\n",
       "    .dataframe tbody tr th {\n",
       "        vertical-align: top;\n",
       "    }\n",
       "\n",
       "    .dataframe thead th {\n",
       "        text-align: right;\n",
       "    }\n",
       "</style>\n",
       "<table border=\"1\" class=\"dataframe\">\n",
       "  <thead>\n",
       "    <tr style=\"text-align: right;\">\n",
       "      <th></th>\n",
       "      <th>category</th>\n",
       "      <th>rating</th>\n",
       "      <th>label</th>\n",
       "      <th>text</th>\n",
       "      <th>text_processed</th>\n",
       "      <th>length</th>\n",
       "    </tr>\n",
       "  </thead>\n",
       "  <tbody>\n",
       "    <tr>\n",
       "      <th>26904</th>\n",
       "      <td>Kindle_Store_5</td>\n",
       "      <td>5.0</td>\n",
       "      <td>1</td>\n",
       "      <td>This was the second book in the Love by Design...</td>\n",
       "      <td>[this, was, the, second, book, in, the, love, ...</td>\n",
       "      <td>99</td>\n",
       "    </tr>\n",
       "    <tr>\n",
       "      <th>4417</th>\n",
       "      <td>Sports_and_Outdoors_5</td>\n",
       "      <td>4.0</td>\n",
       "      <td>1</td>\n",
       "      <td>this thing is great.  I would appreciate it if...</td>\n",
       "      <td>[this, thing, is, great, i, would, appreciate,...</td>\n",
       "      <td>12</td>\n",
       "    </tr>\n",
       "    <tr>\n",
       "      <th>15772</th>\n",
       "      <td>Tools_and_Home_Improvement_5</td>\n",
       "      <td>3.0</td>\n",
       "      <td>0</td>\n",
       "      <td>not sure who designed this; it looks nice and ...</td>\n",
       "      <td>[not, sure, who, designed, this, it, looks, ni...</td>\n",
       "      <td>16</td>\n",
       "    </tr>\n",
       "    <tr>\n",
       "      <th>9498</th>\n",
       "      <td>Electronics_5</td>\n",
       "      <td>3.0</td>\n",
       "      <td>1</td>\n",
       "      <td>Connections are light duty and can break as mi...</td>\n",
       "      <td>[connections, are, light, duty, and, can, brea...</td>\n",
       "      <td>33</td>\n",
       "    </tr>\n",
       "    <tr>\n",
       "      <th>29211</th>\n",
       "      <td>Books_5</td>\n",
       "      <td>1.0</td>\n",
       "      <td>1</td>\n",
       "      <td>I put this book down after reading first few c...</td>\n",
       "      <td>[i, put, this, book, down, after, reading, fir...</td>\n",
       "      <td>24</td>\n",
       "    </tr>\n",
       "    <tr>\n",
       "      <th>...</th>\n",
       "      <td>...</td>\n",
       "      <td>...</td>\n",
       "      <td>...</td>\n",
       "      <td>...</td>\n",
       "      <td>...</td>\n",
       "      <td>...</td>\n",
       "    </tr>\n",
       "    <tr>\n",
       "      <th>10574</th>\n",
       "      <td>Electronics_5</td>\n",
       "      <td>4.0</td>\n",
       "      <td>0</td>\n",
       "      <td>I'm nowhere near a computer expert, but I'd sa...</td>\n",
       "      <td>[i, m, nowhere, near, a, computer, expert, but...</td>\n",
       "      <td>61</td>\n",
       "    </tr>\n",
       "    <tr>\n",
       "      <th>4024</th>\n",
       "      <td>Home_and_Kitchen_5</td>\n",
       "      <td>3.0</td>\n",
       "      <td>0</td>\n",
       "      <td>Purchased this product for a small house and i...</td>\n",
       "      <td>[purchased, this, product, for, a, small, hous...</td>\n",
       "      <td>283</td>\n",
       "    </tr>\n",
       "    <tr>\n",
       "      <th>14142</th>\n",
       "      <td>Movies_and_TV_5</td>\n",
       "      <td>5.0</td>\n",
       "      <td>1</td>\n",
       "      <td>I have many different workouts but this DVD is...</td>\n",
       "      <td>[i, have, many, different, workouts, but, this...</td>\n",
       "      <td>63</td>\n",
       "    </tr>\n",
       "    <tr>\n",
       "      <th>16964</th>\n",
       "      <td>Tools_and_Home_Improvement_5</td>\n",
       "      <td>4.0</td>\n",
       "      <td>0</td>\n",
       "      <td>Good value for the money.It's a very good flas...</td>\n",
       "      <td>[good, value, for, the, money, it, s, a, very,...</td>\n",
       "      <td>26</td>\n",
       "    </tr>\n",
       "    <tr>\n",
       "      <th>8864</th>\n",
       "      <td>Electronics_5</td>\n",
       "      <td>5.0</td>\n",
       "      <td>1</td>\n",
       "      <td>they work as advertised. I installed one on my...</td>\n",
       "      <td>[they, work, as, advertised, i, installed, one...</td>\n",
       "      <td>22</td>\n",
       "    </tr>\n",
       "  </tbody>\n",
       "</table>\n",
       "<p>30000 rows × 6 columns</p>\n",
       "</div>"
      ],
      "text/plain": [
       "                           category  rating  label  \\\n",
       "26904                Kindle_Store_5     5.0      1   \n",
       "4417          Sports_and_Outdoors_5     4.0      1   \n",
       "15772  Tools_and_Home_Improvement_5     3.0      0   \n",
       "9498                  Electronics_5     3.0      1   \n",
       "29211                       Books_5     1.0      1   \n",
       "...                             ...     ...    ...   \n",
       "10574                 Electronics_5     4.0      0   \n",
       "4024             Home_and_Kitchen_5     3.0      0   \n",
       "14142               Movies_and_TV_5     5.0      1   \n",
       "16964  Tools_and_Home_Improvement_5     4.0      0   \n",
       "8864                  Electronics_5     5.0      1   \n",
       "\n",
       "                                                    text  \\\n",
       "26904  This was the second book in the Love by Design...   \n",
       "4417   this thing is great.  I would appreciate it if...   \n",
       "15772  not sure who designed this; it looks nice and ...   \n",
       "9498   Connections are light duty and can break as mi...   \n",
       "29211  I put this book down after reading first few c...   \n",
       "...                                                  ...   \n",
       "10574  I'm nowhere near a computer expert, but I'd sa...   \n",
       "4024   Purchased this product for a small house and i...   \n",
       "14142  I have many different workouts but this DVD is...   \n",
       "16964  Good value for the money.It's a very good flas...   \n",
       "8864   they work as advertised. I installed one on my...   \n",
       "\n",
       "                                          text_processed  length  \n",
       "26904  [this, was, the, second, book, in, the, love, ...      99  \n",
       "4417   [this, thing, is, great, i, would, appreciate,...      12  \n",
       "15772  [not, sure, who, designed, this, it, looks, ni...      16  \n",
       "9498   [connections, are, light, duty, and, can, brea...      33  \n",
       "29211  [i, put, this, book, down, after, reading, fir...      24  \n",
       "...                                                  ...     ...  \n",
       "10574  [i, m, nowhere, near, a, computer, expert, but...      61  \n",
       "4024   [purchased, this, product, for, a, small, hous...     283  \n",
       "14142  [i, have, many, different, workouts, but, this...      63  \n",
       "16964  [good, value, for, the, money, it, s, a, very,...      26  \n",
       "8864   [they, work, as, advertised, i, installed, one...      22  \n",
       "\n",
       "[30000 rows x 6 columns]"
      ]
     },
     "execution_count": 22,
     "metadata": {},
     "output_type": "execute_result"
    }
   ],
   "source": [
    "data_sample"
   ]
  },
  {
   "cell_type": "code",
   "execution_count": 200,
   "id": "28000c58",
   "metadata": {},
   "outputs": [
    {
     "name": "stderr",
     "output_type": "stream",
     "text": [
      "C:\\Users\\Admin\\AppData\\Local\\Temp\\ipykernel_14344\\3604919550.py:1: FutureWarning: ['category', 'text', 'text_processed'] did not aggregate successfully. If any error is raised this will raise in a future version of pandas. Drop these columns/ops to avoid this warning.\n",
      "  view=data_sample.groupby('label').agg([np.mean])\n"
     ]
    },
    {
     "data": {
      "text/plain": [
       "<AxesSubplot:title={'center':'Comparision between the classes'}, xlabel='label'>"
      ]
     },
     "execution_count": 200,
     "metadata": {},
     "output_type": "execute_result"
    },
    {
     "data": {
      "image/png": "[encoded data removed]",
      "text/plain": [
       "<Figure size 1080x576 with 1 Axes>"
      ]
     },
     "metadata": {
      "needs_background": "light"
     },
     "output_type": "display_data"
    }
   ],
   "source": [
    "#view=data_sample.groupby('label').agg([np.mean])\n",
    "#view.plot(kind='bar',figsize=(15,8),title='Comparision between the classes',logy=True)"
   ]
  },
  {
   "cell_type": "code",
   "execution_count": 150,
   "id": "132606b7",
   "metadata": {},
   "outputs": [
    {
     "data": {
      "text/plain": [
       "<AxesSubplot:xlabel='length', ylabel='Density'>"
      ]
     },
     "execution_count": 150,
     "metadata": {},
     "output_type": "execute_result"
    },
    {
     "data": {
      "image/png": "[encoded data removed]",
      "text/plain": [
       "<Figure size 432x288 with 1 Axes>"
      ]
     },
     "metadata": {
      "needs_background": "light"
     },
     "output_type": "display_data"
    }
   ],
   "source": [
    "#use different plot to show the relationship between rating and length of the text\n",
    "sns.kdeplot(data=data_sample, x=\"length\", hue=\"label\")"
   ]
  },
  {
   "cell_type": "code",
   "execution_count": 142,
   "id": "e39d165f",
   "metadata": {},
   "outputs": [
    {
     "data": {
      "image/png": "[encoded data removed]",
      "text/plain": [
       "<Figure size 402.375x360 with 6 Axes>"
      ]
     },
     "metadata": {
      "needs_background": "light"
     },
     "output_type": "display_data"
    }
   ],
   "source": [
    "sns.pairplot(data_sample, vars=[\"length\",'rating'],hue='label',palette=\"husl\")    \n",
    "plt.show()  "
   ]
  },
  {
   "cell_type": "code",
   "execution_count": 23,
   "id": "9a79f5e6",
   "metadata": {},
   "outputs": [],
   "source": [
    "from nltk.probability import FreqDist"
   ]
  },
  {
   "cell_type": "code",
   "execution_count": 24,
   "id": "359078d3",
   "metadata": {},
   "outputs": [],
   "source": [
    "#data_sample.to_csv('data_sample.csv')"
   ]
  },
  {
   "cell_type": "code",
   "execution_count": null,
   "id": "24684a54",
   "metadata": {},
   "outputs": [],
   "source": []
  },
  {
   "cell_type": "code",
   "execution_count": 31,
   "id": "90065fcc",
   "metadata": {},
   "outputs": [
    {
     "name": "stdout",
     "output_type": "stream",
     "text": [
      "2 done\n",
      "CPU times: total: 1min 16s\n",
      "Wall time: 1min 25s\n"
     ]
    },
    {
     "data": {
      "text/html": [
       "<div>\n",
       "<style scoped>\n",
       "    .dataframe tbody tr th:only-of-type {\n",
       "        vertical-align: middle;\n",
       "    }\n",
       "\n",
       "    .dataframe tbody tr th {\n",
       "        vertical-align: top;\n",
       "    }\n",
       "\n",
       "    .dataframe thead th {\n",
       "        text-align: right;\n",
       "    }\n",
       "</style>\n",
       "<table border=\"1\" class=\"dataframe\">\n",
       "  <thead>\n",
       "    <tr style=\"text-align: right;\">\n",
       "      <th></th>\n",
       "      <th>category</th>\n",
       "      <th>rating</th>\n",
       "      <th>label</th>\n",
       "      <th>text</th>\n",
       "      <th>text_processed</th>\n",
       "      <th>length</th>\n",
       "    </tr>\n",
       "  </thead>\n",
       "  <tbody>\n",
       "    <tr>\n",
       "      <th>26904</th>\n",
       "      <td>Kindle_Store_5</td>\n",
       "      <td>5.0</td>\n",
       "      <td>1</td>\n",
       "      <td>This was the second book in the Love by Design...</td>\n",
       "      <td>[thi, wa, second, book, love, design, seri, lo...</td>\n",
       "      <td>99</td>\n",
       "    </tr>\n",
       "    <tr>\n",
       "      <th>4417</th>\n",
       "      <td>Sports_and_Outdoors_5</td>\n",
       "      <td>4.0</td>\n",
       "      <td>1</td>\n",
       "      <td>this thing is great.  I would appreciate it if...</td>\n",
       "      <td>[thi, thing, great, would, appreci, wa, cheaper]</td>\n",
       "      <td>12</td>\n",
       "    </tr>\n",
       "    <tr>\n",
       "      <th>15772</th>\n",
       "      <td>Tools_and_Home_Improvement_5</td>\n",
       "      <td>3.0</td>\n",
       "      <td>0</td>\n",
       "      <td>not sure who designed this; it looks nice and ...</td>\n",
       "      <td>[sure, design, thi, look, nice, instruct, pret...</td>\n",
       "      <td>16</td>\n",
       "    </tr>\n",
       "    <tr>\n",
       "      <th>9498</th>\n",
       "      <td>Electronics_5</td>\n",
       "      <td>3.0</td>\n",
       "      <td>1</td>\n",
       "      <td>Connections are light duty and can break as mi...</td>\n",
       "      <td>[connect, light, duti, break, mine, come, powe...</td>\n",
       "      <td>33</td>\n",
       "    </tr>\n",
       "    <tr>\n",
       "      <th>29211</th>\n",
       "      <td>Books_5</td>\n",
       "      <td>1.0</td>\n",
       "      <td>1</td>\n",
       "      <td>I put this book down after reading first few c...</td>\n",
       "      <td>[put, thi, book, read, first, chapter, believ,...</td>\n",
       "      <td>24</td>\n",
       "    </tr>\n",
       "  </tbody>\n",
       "</table>\n",
       "</div>"
      ],
      "text/plain": [
       "                           category  rating  label  \\\n",
       "26904                Kindle_Store_5     5.0      1   \n",
       "4417          Sports_and_Outdoors_5     4.0      1   \n",
       "15772  Tools_and_Home_Improvement_5     3.0      0   \n",
       "9498                  Electronics_5     3.0      1   \n",
       "29211                       Books_5     1.0      1   \n",
       "\n",
       "                                                    text  \\\n",
       "26904  This was the second book in the Love by Design...   \n",
       "4417   this thing is great.  I would appreciate it if...   \n",
       "15772  not sure who designed this; it looks nice and ...   \n",
       "9498   Connections are light duty and can break as mi...   \n",
       "29211  I put this book down after reading first few c...   \n",
       "\n",
       "                                          text_processed  length  \n",
       "26904  [thi, wa, second, book, love, design, seri, lo...      99  \n",
       "4417    [thi, thing, great, would, appreci, wa, cheaper]      12  \n",
       "15772  [sure, design, thi, look, nice, instruct, pret...      16  \n",
       "9498   [connect, light, duti, break, mine, come, powe...      33  \n",
       "29211  [put, thi, book, read, first, chapter, believ,...      24  "
      ]
     },
     "execution_count": 31,
     "metadata": {},
     "output_type": "execute_result"
    }
   ],
   "source": [
    "%%time\n",
    "data_sample[\"text_processed\"]=data_sample[\"text_processed\"].apply(stem_and_lemmatize)\n",
    "print('2 done')\n",
    "data_sample[\"text_processed\"]=data_sample[\"text_processed\"].apply(remove_stopwords)\n",
    "\n",
    "data_sample.head()"
   ]
  },
  {
   "cell_type": "code",
   "execution_count": 32,
   "id": "4be8a4d6",
   "metadata": {
    "scrolled": true
   },
   "outputs": [
    {
     "data": {
      "text/html": [
       "<div>\n",
       "<style scoped>\n",
       "    .dataframe tbody tr th:only-of-type {\n",
       "        vertical-align: middle;\n",
       "    }\n",
       "\n",
       "    .dataframe tbody tr th {\n",
       "        vertical-align: top;\n",
       "    }\n",
       "\n",
       "    .dataframe thead th {\n",
       "        text-align: right;\n",
       "    }\n",
       "</style>\n",
       "<table border=\"1\" class=\"dataframe\">\n",
       "  <thead>\n",
       "    <tr style=\"text-align: right;\">\n",
       "      <th></th>\n",
       "      <th>category</th>\n",
       "      <th>rating</th>\n",
       "      <th>label</th>\n",
       "      <th>text</th>\n",
       "      <th>text_processed</th>\n",
       "      <th>length</th>\n",
       "    </tr>\n",
       "  </thead>\n",
       "  <tbody>\n",
       "    <tr>\n",
       "      <th>26904</th>\n",
       "      <td>Kindle_Store_5</td>\n",
       "      <td>5.0</td>\n",
       "      <td>1</td>\n",
       "      <td>This was the second book in the Love by Design...</td>\n",
       "      <td>[thi, wa, second, book, love, design, seri, lo...</td>\n",
       "      <td>99</td>\n",
       "    </tr>\n",
       "    <tr>\n",
       "      <th>4417</th>\n",
       "      <td>Sports_and_Outdoors_5</td>\n",
       "      <td>4.0</td>\n",
       "      <td>1</td>\n",
       "      <td>this thing is great.  I would appreciate it if...</td>\n",
       "      <td>[thi, thing, great, would, appreci, wa, cheaper]</td>\n",
       "      <td>12</td>\n",
       "    </tr>\n",
       "    <tr>\n",
       "      <th>15772</th>\n",
       "      <td>Tools_and_Home_Improvement_5</td>\n",
       "      <td>3.0</td>\n",
       "      <td>0</td>\n",
       "      <td>not sure who designed this; it looks nice and ...</td>\n",
       "      <td>[sure, design, thi, look, nice, instruct, pret...</td>\n",
       "      <td>16</td>\n",
       "    </tr>\n",
       "    <tr>\n",
       "      <th>9498</th>\n",
       "      <td>Electronics_5</td>\n",
       "      <td>3.0</td>\n",
       "      <td>1</td>\n",
       "      <td>Connections are light duty and can break as mi...</td>\n",
       "      <td>[connect, light, duti, break, mine, come, powe...</td>\n",
       "      <td>33</td>\n",
       "    </tr>\n",
       "    <tr>\n",
       "      <th>29211</th>\n",
       "      <td>Books_5</td>\n",
       "      <td>1.0</td>\n",
       "      <td>1</td>\n",
       "      <td>I put this book down after reading first few c...</td>\n",
       "      <td>[put, thi, book, read, first, chapter, believ,...</td>\n",
       "      <td>24</td>\n",
       "    </tr>\n",
       "    <tr>\n",
       "      <th>34789</th>\n",
       "      <td>Toys_and_Games_5</td>\n",
       "      <td>5.0</td>\n",
       "      <td>0</td>\n",
       "      <td>My 7 year old daughter, who has the Legos and ...</td>\n",
       "      <td>[year, old, daughter, ha, lego, ha, lot, lego,...</td>\n",
       "      <td>35</td>\n",
       "    </tr>\n",
       "    <tr>\n",
       "      <th>31473</th>\n",
       "      <td>Books_5</td>\n",
       "      <td>5.0</td>\n",
       "      <td>1</td>\n",
       "      <td>If you think small town living is safer than b...</td>\n",
       "      <td>[think, small, town, live, safer, big, citi, t...</td>\n",
       "      <td>97</td>\n",
       "    </tr>\n",
       "    <tr>\n",
       "      <th>31909</th>\n",
       "      <td>Books_5</td>\n",
       "      <td>4.0</td>\n",
       "      <td>0</td>\n",
       "      <td>This is a great mystery, and an entertaining r...</td>\n",
       "      <td>[thi, great, mysteri, entertain, read, keep, e...</td>\n",
       "      <td>121</td>\n",
       "    </tr>\n",
       "    <tr>\n",
       "      <th>7071</th>\n",
       "      <td>Sports_and_Outdoors_5</td>\n",
       "      <td>5.0</td>\n",
       "      <td>1</td>\n",
       "      <td>BEST BARREL SQUEEGIE/SWAB I'VE EVER USED IN TH...</td>\n",
       "      <td>[best, barrel, squeegi, swab, ever, use, year,...</td>\n",
       "      <td>91</td>\n",
       "    </tr>\n",
       "    <tr>\n",
       "      <th>2571</th>\n",
       "      <td>Home_and_Kitchen_5</td>\n",
       "      <td>5.0</td>\n",
       "      <td>0</td>\n",
       "      <td>This rug is amazing for the price and quality....</td>\n",
       "      <td>[thi, rug, amaz, price, qualiti, purchas, futu...</td>\n",
       "      <td>47</td>\n",
       "    </tr>\n",
       "    <tr>\n",
       "      <th>10949</th>\n",
       "      <td>Electronics_5</td>\n",
       "      <td>5.0</td>\n",
       "      <td>1</td>\n",
       "      <td>Works amazing!\\nThis is the most inexpensive e...</td>\n",
       "      <td>[work, amaz, thi, inexpens, electron, technolo...</td>\n",
       "      <td>96</td>\n",
       "    </tr>\n",
       "    <tr>\n",
       "      <th>31981</th>\n",
       "      <td>Books_5</td>\n",
       "      <td>2.0</td>\n",
       "      <td>0</td>\n",
       "      <td>First of all, let me point out that the movie ...</td>\n",
       "      <td>[first, let, point, movi, scienc, fiction, sto...</td>\n",
       "      <td>134</td>\n",
       "    </tr>\n",
       "    <tr>\n",
       "      <th>20546</th>\n",
       "      <td>Pet_Supplies_5</td>\n",
       "      <td>4.0</td>\n",
       "      <td>1</td>\n",
       "      <td>Use it for my fresh water tanks. I do not use ...</td>\n",
       "      <td>[use, fresh, water, tank, use, sw, tank, ro, s...</td>\n",
       "      <td>23</td>\n",
       "    </tr>\n",
       "    <tr>\n",
       "      <th>10744</th>\n",
       "      <td>Electronics_5</td>\n",
       "      <td>5.0</td>\n",
       "      <td>0</td>\n",
       "      <td>This concept is so simple, it has the potentia...</td>\n",
       "      <td>[thi, concept, simpl, ha, potenti, make, real,...</td>\n",
       "      <td>74</td>\n",
       "    </tr>\n",
       "    <tr>\n",
       "      <th>432</th>\n",
       "      <td>Home_and_Kitchen_5</td>\n",
       "      <td>1.0</td>\n",
       "      <td>0</td>\n",
       "      <td>The scale is not accurate, it is just a bit to...</td>\n",
       "      <td>[scale, accur, bit, larg, scale, ha]</td>\n",
       "      <td>16</td>\n",
       "    </tr>\n",
       "    <tr>\n",
       "      <th>10830</th>\n",
       "      <td>Electronics_5</td>\n",
       "      <td>5.0</td>\n",
       "      <td>0</td>\n",
       "      <td>I have several of these and have had no issues...</td>\n",
       "      <td>[sever, issu, keep, review, order, share, expe...</td>\n",
       "      <td>77</td>\n",
       "    </tr>\n",
       "    <tr>\n",
       "      <th>7381</th>\n",
       "      <td>Sports_and_Outdoors_5</td>\n",
       "      <td>3.0</td>\n",
       "      <td>1</td>\n",
       "      <td>The pen is a very nice and well made (5 of 5 s...</td>\n",
       "      <td>[pen, veri, nice, well, made, star, littl, top...</td>\n",
       "      <td>117</td>\n",
       "    </tr>\n",
       "    <tr>\n",
       "      <th>23720</th>\n",
       "      <td>Kindle_Store_5</td>\n",
       "      <td>5.0</td>\n",
       "      <td>0</td>\n",
       "      <td>Great read.  I would recommend it.  Great job....</td>\n",
       "      <td>[great, read, would, recommend, great, job, re...</td>\n",
       "      <td>12</td>\n",
       "    </tr>\n",
       "    <tr>\n",
       "      <th>208</th>\n",
       "      <td>Home_and_Kitchen_5</td>\n",
       "      <td>5.0</td>\n",
       "      <td>1</td>\n",
       "      <td>Just what the bride wanted came out nice with ...</td>\n",
       "      <td>[bride, want, came, nice, engrav]</td>\n",
       "      <td>11</td>\n",
       "    </tr>\n",
       "    <tr>\n",
       "      <th>15797</th>\n",
       "      <td>Tools_and_Home_Improvement_5</td>\n",
       "      <td>5.0</td>\n",
       "      <td>0</td>\n",
       "      <td>I use nothing but these lights. The only probl...</td>\n",
       "      <td>[use, noth, light, onli, problem, tini, one]</td>\n",
       "      <td>18</td>\n",
       "    </tr>\n",
       "    <tr>\n",
       "      <th>3920</th>\n",
       "      <td>Home_and_Kitchen_5</td>\n",
       "      <td>5.0</td>\n",
       "      <td>0</td>\n",
       "      <td>Love this machine! I've made some batches and ...</td>\n",
       "      <td>[love, thi, machin, made, batch, recip, instru...</td>\n",
       "      <td>244</td>\n",
       "    </tr>\n",
       "    <tr>\n",
       "      <th>4260</th>\n",
       "      <td>Sports_and_Outdoors_5</td>\n",
       "      <td>4.0</td>\n",
       "      <td>0</td>\n",
       "      <td>Good looking,  easily scratches.  I have an ol...</td>\n",
       "      <td>[good, look, easili, scratch, old, stove, stil...</td>\n",
       "      <td>14</td>\n",
       "    </tr>\n",
       "    <tr>\n",
       "      <th>3837</th>\n",
       "      <td>Home_and_Kitchen_5</td>\n",
       "      <td>3.0</td>\n",
       "      <td>1</td>\n",
       "      <td>UPDATE Mar-2016:  I bought a second one for my...</td>\n",
       "      <td>[updat, mar, bought, second, one, overal, seem...</td>\n",
       "      <td>231</td>\n",
       "    </tr>\n",
       "    <tr>\n",
       "      <th>8355</th>\n",
       "      <td>Electronics_5</td>\n",
       "      <td>4.0</td>\n",
       "      <td>1</td>\n",
       "      <td>they are SD cards at a good price. what else i...</td>\n",
       "      <td>[sd, card, good, price, el, say]</td>\n",
       "      <td>14</td>\n",
       "    </tr>\n",
       "    <tr>\n",
       "      <th>38484</th>\n",
       "      <td>Clothing_Shoes_and_Jewelry_5</td>\n",
       "      <td>3.0</td>\n",
       "      <td>1</td>\n",
       "      <td>This vest is okay, but the fabric is stiff and...</td>\n",
       "      <td>[thi, vest, okay, fabric, stiff, doe, flow, bo...</td>\n",
       "      <td>33</td>\n",
       "    </tr>\n",
       "    <tr>\n",
       "      <th>39810</th>\n",
       "      <td>Clothing_Shoes_and_Jewelry_5</td>\n",
       "      <td>2.0</td>\n",
       "      <td>1</td>\n",
       "      <td>Purchased these for a nice alternative to norm...</td>\n",
       "      <td>[purchas, nice, altern, normal, woman, khaki, ...</td>\n",
       "      <td>104</td>\n",
       "    </tr>\n",
       "    <tr>\n",
       "      <th>3680</th>\n",
       "      <td>Home_and_Kitchen_5</td>\n",
       "      <td>2.0</td>\n",
       "      <td>1</td>\n",
       "      <td>I am disappointed in these to be honest.  I li...</td>\n",
       "      <td>[disappoint, honest, like, love, actual, put, ...</td>\n",
       "      <td>158</td>\n",
       "    </tr>\n",
       "    <tr>\n",
       "      <th>22552</th>\n",
       "      <td>Pet_Supplies_5</td>\n",
       "      <td>5.0</td>\n",
       "      <td>0</td>\n",
       "      <td>I am delightfully surprised at how well the qu...</td>\n",
       "      <td>[delight, surpris, well, qualiti, durabl, thi,...</td>\n",
       "      <td>70</td>\n",
       "    </tr>\n",
       "    <tr>\n",
       "      <th>33361</th>\n",
       "      <td>Toys_and_Games_5</td>\n",
       "      <td>5.0</td>\n",
       "      <td>1</td>\n",
       "      <td>I like this harmonica over others like it beca...</td>\n",
       "      <td>[like, thi, harmonica, like, becaus, clean, ea...</td>\n",
       "      <td>16</td>\n",
       "    </tr>\n",
       "    <tr>\n",
       "      <th>28355</th>\n",
       "      <td>Kindle_Store_5</td>\n",
       "      <td>3.0</td>\n",
       "      <td>1</td>\n",
       "      <td>Anyone familiar with the Desire, Oklahoma seri...</td>\n",
       "      <td>[anyon, familiar, desir, oklahoma, seri, recog...</td>\n",
       "      <td>339</td>\n",
       "    </tr>\n",
       "  </tbody>\n",
       "</table>\n",
       "</div>"
      ],
      "text/plain": [
       "                           category  rating  label  \\\n",
       "26904                Kindle_Store_5     5.0      1   \n",
       "4417          Sports_and_Outdoors_5     4.0      1   \n",
       "15772  Tools_and_Home_Improvement_5     3.0      0   \n",
       "9498                  Electronics_5     3.0      1   \n",
       "29211                       Books_5     1.0      1   \n",
       "34789              Toys_and_Games_5     5.0      0   \n",
       "31473                       Books_5     5.0      1   \n",
       "31909                       Books_5     4.0      0   \n",
       "7071          Sports_and_Outdoors_5     5.0      1   \n",
       "2571             Home_and_Kitchen_5     5.0      0   \n",
       "10949                 Electronics_5     5.0      1   \n",
       "31981                       Books_5     2.0      0   \n",
       "20546                Pet_Supplies_5     4.0      1   \n",
       "10744                 Electronics_5     5.0      0   \n",
       "432              Home_and_Kitchen_5     1.0      0   \n",
       "10830                 Electronics_5     5.0      0   \n",
       "7381          Sports_and_Outdoors_5     3.0      1   \n",
       "23720                Kindle_Store_5     5.0      0   \n",
       "208              Home_and_Kitchen_5     5.0      1   \n",
       "15797  Tools_and_Home_Improvement_5     5.0      0   \n",
       "3920             Home_and_Kitchen_5     5.0      0   \n",
       "4260          Sports_and_Outdoors_5     4.0      0   \n",
       "3837             Home_and_Kitchen_5     3.0      1   \n",
       "8355                  Electronics_5     4.0      1   \n",
       "38484  Clothing_Shoes_and_Jewelry_5     3.0      1   \n",
       "39810  Clothing_Shoes_and_Jewelry_5     2.0      1   \n",
       "3680             Home_and_Kitchen_5     2.0      1   \n",
       "22552                Pet_Supplies_5     5.0      0   \n",
       "33361              Toys_and_Games_5     5.0      1   \n",
       "28355                Kindle_Store_5     3.0      1   \n",
       "\n",
       "                                                    text  \\\n",
       "26904  This was the second book in the Love by Design...   \n",
       "4417   this thing is great.  I would appreciate it if...   \n",
       "15772  not sure who designed this; it looks nice and ...   \n",
       "9498   Connections are light duty and can break as mi...   \n",
       "29211  I put this book down after reading first few c...   \n",
       "34789  My 7 year old daughter, who has the Legos and ...   \n",
       "31473  If you think small town living is safer than b...   \n",
       "31909  This is a great mystery, and an entertaining r...   \n",
       "7071   BEST BARREL SQUEEGIE/SWAB I'VE EVER USED IN TH...   \n",
       "2571   This rug is amazing for the price and quality....   \n",
       "10949  Works amazing!\\nThis is the most inexpensive e...   \n",
       "31981  First of all, let me point out that the movie ...   \n",
       "20546  Use it for my fresh water tanks. I do not use ...   \n",
       "10744  This concept is so simple, it has the potentia...   \n",
       "432    The scale is not accurate, it is just a bit to...   \n",
       "10830  I have several of these and have had no issues...   \n",
       "7381   The pen is a very nice and well made (5 of 5 s...   \n",
       "23720  Great read.  I would recommend it.  Great job....   \n",
       "208    Just what the bride wanted came out nice with ...   \n",
       "15797  I use nothing but these lights. The only probl...   \n",
       "3920   Love this machine! I've made some batches and ...   \n",
       "4260   Good looking,  easily scratches.  I have an ol...   \n",
       "3837   UPDATE Mar-2016:  I bought a second one for my...   \n",
       "8355   they are SD cards at a good price. what else i...   \n",
       "38484  This vest is okay, but the fabric is stiff and...   \n",
       "39810  Purchased these for a nice alternative to norm...   \n",
       "3680   I am disappointed in these to be honest.  I li...   \n",
       "22552  I am delightfully surprised at how well the qu...   \n",
       "33361  I like this harmonica over others like it beca...   \n",
       "28355  Anyone familiar with the Desire, Oklahoma seri...   \n",
       "\n",
       "                                          text_processed  length  \n",
       "26904  [thi, wa, second, book, love, design, seri, lo...      99  \n",
       "4417    [thi, thing, great, would, appreci, wa, cheaper]      12  \n",
       "15772  [sure, design, thi, look, nice, instruct, pret...      16  \n",
       "9498   [connect, light, duti, break, mine, come, powe...      33  \n",
       "29211  [put, thi, book, read, first, chapter, believ,...      24  \n",
       "34789  [year, old, daughter, ha, lego, ha, lot, lego,...      35  \n",
       "31473  [think, small, town, live, safer, big, citi, t...      97  \n",
       "31909  [thi, great, mysteri, entertain, read, keep, e...     121  \n",
       "7071   [best, barrel, squeegi, swab, ever, use, year,...      91  \n",
       "2571   [thi, rug, amaz, price, qualiti, purchas, futu...      47  \n",
       "10949  [work, amaz, thi, inexpens, electron, technolo...      96  \n",
       "31981  [first, let, point, movi, scienc, fiction, sto...     134  \n",
       "20546  [use, fresh, water, tank, use, sw, tank, ro, s...      23  \n",
       "10744  [thi, concept, simpl, ha, potenti, make, real,...      74  \n",
       "432                 [scale, accur, bit, larg, scale, ha]      16  \n",
       "10830  [sever, issu, keep, review, order, share, expe...      77  \n",
       "7381   [pen, veri, nice, well, made, star, littl, top...     117  \n",
       "23720  [great, read, would, recommend, great, job, re...      12  \n",
       "208                    [bride, want, came, nice, engrav]      11  \n",
       "15797       [use, noth, light, onli, problem, tini, one]      18  \n",
       "3920   [love, thi, machin, made, batch, recip, instru...     244  \n",
       "4260   [good, look, easili, scratch, old, stove, stil...      14  \n",
       "3837   [updat, mar, bought, second, one, overal, seem...     231  \n",
       "8355                    [sd, card, good, price, el, say]      14  \n",
       "38484  [thi, vest, okay, fabric, stiff, doe, flow, bo...      33  \n",
       "39810  [purchas, nice, altern, normal, woman, khaki, ...     104  \n",
       "3680   [disappoint, honest, like, love, actual, put, ...     158  \n",
       "22552  [delight, surpris, well, qualiti, durabl, thi,...      70  \n",
       "33361  [like, thi, harmonica, like, becaus, clean, ea...      16  \n",
       "28355  [anyon, familiar, desir, oklahoma, seri, recog...     339  "
      ]
     },
     "execution_count": 32,
     "metadata": {},
     "output_type": "execute_result"
    }
   ],
   "source": [
    "data_sample.head(30)"
   ]
  },
  {
   "cell_type": "markdown",
   "id": "6202cb92",
   "metadata": {},
   "source": [
    "# Find the top 15 common words in computer-generated reviews"
   ]
  },
  {
   "cell_type": "code",
   "execution_count": 191,
   "id": "9fb47c42",
   "metadata": {},
   "outputs": [],
   "source": [
    "list_of_words_cg1=data_sample[data_sample['label']==0]['text_processed'].tolist()"
   ]
  },
  {
   "cell_type": "code",
   "execution_count": 192,
   "id": "9d66594e",
   "metadata": {},
   "outputs": [
    {
     "data": {
      "text/plain": [
       "15044"
      ]
     },
     "execution_count": 192,
     "metadata": {},
     "output_type": "execute_result"
    }
   ],
   "source": [
    "len(list_of_words_cg1)"
   ]
  },
  {
   "cell_type": "code",
   "execution_count": 193,
   "id": "2a22a3ae",
   "metadata": {},
   "outputs": [],
   "source": [
    "bow1=[]\n",
    "for lists in list_of_words_cg1:\n",
    "    for word in lists:\n",
    "        bow1.append(word)\n",
    "freq_dist_cg=FreqDist(bow1)\n",
    "top_10_cg=freq_dist_cg.most_common(15)"
   ]
  },
  {
   "cell_type": "code",
   "execution_count": 194,
   "id": "68aaad19",
   "metadata": {},
   "outputs": [
    {
     "data": {
      "text/plain": [
       "[('thi', 21021),\n",
       " ('veri', 11514),\n",
       " ('wa', 10866),\n",
       " ('love', 9461),\n",
       " ('great', 8386),\n",
       " ('book', 8375),\n",
       " ('good', 6976),\n",
       " ('one', 5760),\n",
       " ('read', 5506),\n",
       " ('stori', 5190),\n",
       " ('use', 4901),\n",
       " ('like', 4797),\n",
       " ('well', 4770),\n",
       " ('would', 4456),\n",
       " ('littl', 3980)]"
      ]
     },
     "execution_count": 194,
     "metadata": {},
     "output_type": "execute_result"
    }
   ],
   "source": [
    "top_10_cg"
   ]
  },
  {
   "cell_type": "code",
   "execution_count": 195,
   "id": "c00dc325",
   "metadata": {},
   "outputs": [],
   "source": [
    "cg=dict(top_10_cg)"
   ]
  },
  {
   "cell_type": "code",
   "execution_count": 196,
   "id": "2fa4030d",
   "metadata": {},
   "outputs": [],
   "source": [
    "word_features_cg, freq_cg = [[x for x,y in top_10_cg],\n",
    "      [y for x,y in top_10_cg]]"
   ]
  },
  {
   "cell_type": "code",
   "execution_count": 197,
   "id": "5531ad5a",
   "metadata": {},
   "outputs": [],
   "source": [
    "df_cg=pd.DataFrame()"
   ]
  },
  {
   "cell_type": "code",
   "execution_count": 198,
   "id": "0b0ed66e",
   "metadata": {},
   "outputs": [],
   "source": [
    "df_cg['word']=pd.DataFrame(word_features_cg)\n",
    "df_cg['frequency']=pd.DataFrame(freq_cg)"
   ]
  },
  {
   "cell_type": "code",
   "execution_count": 199,
   "id": "2bece133",
   "metadata": {},
   "outputs": [
    {
     "data": {
      "text/html": [
       "<div>\n",
       "<style scoped>\n",
       "    .dataframe tbody tr th:only-of-type {\n",
       "        vertical-align: middle;\n",
       "    }\n",
       "\n",
       "    .dataframe tbody tr th {\n",
       "        vertical-align: top;\n",
       "    }\n",
       "\n",
       "    .dataframe thead th {\n",
       "        text-align: right;\n",
       "    }\n",
       "</style>\n",
       "<table border=\"1\" class=\"dataframe\">\n",
       "  <thead>\n",
       "    <tr style=\"text-align: right;\">\n",
       "      <th></th>\n",
       "      <th>word</th>\n",
       "      <th>frequency</th>\n",
       "    </tr>\n",
       "  </thead>\n",
       "  <tbody>\n",
       "    <tr>\n",
       "      <th>0</th>\n",
       "      <td>thi</td>\n",
       "      <td>21021</td>\n",
       "    </tr>\n",
       "    <tr>\n",
       "      <th>1</th>\n",
       "      <td>veri</td>\n",
       "      <td>11514</td>\n",
       "    </tr>\n",
       "    <tr>\n",
       "      <th>2</th>\n",
       "      <td>wa</td>\n",
       "      <td>10866</td>\n",
       "    </tr>\n",
       "    <tr>\n",
       "      <th>3</th>\n",
       "      <td>love</td>\n",
       "      <td>9461</td>\n",
       "    </tr>\n",
       "    <tr>\n",
       "      <th>4</th>\n",
       "      <td>great</td>\n",
       "      <td>8386</td>\n",
       "    </tr>\n",
       "    <tr>\n",
       "      <th>5</th>\n",
       "      <td>book</td>\n",
       "      <td>8375</td>\n",
       "    </tr>\n",
       "    <tr>\n",
       "      <th>6</th>\n",
       "      <td>good</td>\n",
       "      <td>6976</td>\n",
       "    </tr>\n",
       "    <tr>\n",
       "      <th>7</th>\n",
       "      <td>one</td>\n",
       "      <td>5760</td>\n",
       "    </tr>\n",
       "    <tr>\n",
       "      <th>8</th>\n",
       "      <td>read</td>\n",
       "      <td>5506</td>\n",
       "    </tr>\n",
       "    <tr>\n",
       "      <th>9</th>\n",
       "      <td>stori</td>\n",
       "      <td>5190</td>\n",
       "    </tr>\n",
       "    <tr>\n",
       "      <th>10</th>\n",
       "      <td>use</td>\n",
       "      <td>4901</td>\n",
       "    </tr>\n",
       "    <tr>\n",
       "      <th>11</th>\n",
       "      <td>like</td>\n",
       "      <td>4797</td>\n",
       "    </tr>\n",
       "    <tr>\n",
       "      <th>12</th>\n",
       "      <td>well</td>\n",
       "      <td>4770</td>\n",
       "    </tr>\n",
       "    <tr>\n",
       "      <th>13</th>\n",
       "      <td>would</td>\n",
       "      <td>4456</td>\n",
       "    </tr>\n",
       "    <tr>\n",
       "      <th>14</th>\n",
       "      <td>littl</td>\n",
       "      <td>3980</td>\n",
       "    </tr>\n",
       "  </tbody>\n",
       "</table>\n",
       "</div>"
      ],
      "text/plain": [
       "     word  frequency\n",
       "0     thi      21021\n",
       "1    veri      11514\n",
       "2      wa      10866\n",
       "3    love       9461\n",
       "4   great       8386\n",
       "5    book       8375\n",
       "6    good       6976\n",
       "7     one       5760\n",
       "8    read       5506\n",
       "9   stori       5190\n",
       "10    use       4901\n",
       "11   like       4797\n",
       "12   well       4770\n",
       "13  would       4456\n",
       "14  littl       3980"
      ]
     },
     "execution_count": 199,
     "metadata": {},
     "output_type": "execute_result"
    }
   ],
   "source": [
    "df_cg"
   ]
  },
  {
   "cell_type": "code",
   "execution_count": 200,
   "id": "0097c8cd",
   "metadata": {
    "scrolled": false
   },
   "outputs": [
    {
     "data": {
      "text/plain": [
       "Text(0.5, 1.0, 'The top 15 common words in computer-generated reviews')"
      ]
     },
     "execution_count": 200,
     "metadata": {},
     "output_type": "execute_result"
    },
    {
     "data": {
      "image/png": "[encoded data removed]",
      "text/plain": [
       "<Figure size 864x576 with 1 Axes>"
      ]
     },
     "metadata": {
      "needs_background": "light"
     },
     "output_type": "display_data"
    }
   ],
   "source": [
    "plt.figure(figsize=(12,8))\n",
    "sns.barplot(x=\"word\", y=\"frequency\", data=df_cg)\n",
    "plt.title('The top 15 common words in computer-generated reviews')"
   ]
  },
  {
   "cell_type": "markdown",
   "id": "ebb988d4",
   "metadata": {},
   "source": [
    "# Find the top 15 common words in original reviews"
   ]
  },
  {
   "cell_type": "code",
   "execution_count": 201,
   "id": "fc47868a",
   "metadata": {},
   "outputs": [],
   "source": [
    "list_of_words_or=data_sample[data_sample['label']==1]['text_processed'].tolist()"
   ]
  },
  {
   "cell_type": "code",
   "execution_count": 202,
   "id": "01c343d5",
   "metadata": {},
   "outputs": [
    {
     "data": {
      "text/plain": [
       "14956"
      ]
     },
     "execution_count": 202,
     "metadata": {},
     "output_type": "execute_result"
    }
   ],
   "source": [
    "len(list_of_words_or)"
   ]
  },
  {
   "cell_type": "code",
   "execution_count": 203,
   "id": "47f62da5",
   "metadata": {},
   "outputs": [],
   "source": [
    "bow1=[]\n",
    "for lists in list_of_words_or:\n",
    "    for word in lists:\n",
    "        bow1.append(word)\n",
    "freq_dist_or=FreqDist(bow1)\n",
    "top_10_or=freq_dist_or.most_common(15)"
   ]
  },
  {
   "cell_type": "code",
   "execution_count": 204,
   "id": "370a75dc",
   "metadata": {},
   "outputs": [
    {
     "data": {
      "text/plain": [
       "[('thi', 16492),\n",
       " ('wa', 8598),\n",
       " ('one', 5403),\n",
       " ('love', 4728),\n",
       " ('book', 4697),\n",
       " ('like', 4630),\n",
       " ('use', 4422),\n",
       " ('great', 4366),\n",
       " ('veri', 4337),\n",
       " ('good', 3592),\n",
       " ('get', 3568),\n",
       " ('work', 3435),\n",
       " ('well', 3263),\n",
       " ('read', 3235),\n",
       " ('would', 3229)]"
      ]
     },
     "execution_count": 204,
     "metadata": {},
     "output_type": "execute_result"
    }
   ],
   "source": [
    "top_10_or"
   ]
  },
  {
   "cell_type": "code",
   "execution_count": 205,
   "id": "151e8fbd",
   "metadata": {},
   "outputs": [],
   "source": [
    "word_features_or, freq_or = [[x for x,y in top_10_or],\n",
    "      [y for x,y in top_10_or]]"
   ]
  },
  {
   "cell_type": "code",
   "execution_count": 206,
   "id": "661f91c0",
   "metadata": {},
   "outputs": [],
   "source": [
    "df_cg['word_or']=pd.DataFrame(word_features_or)\n",
    "df_cg['frequency_or']=pd.DataFrame(freq_or)"
   ]
  },
  {
   "cell_type": "code",
   "execution_count": 207,
   "id": "7910e91a",
   "metadata": {},
   "outputs": [
    {
     "data": {
      "text/html": [
       "<div>\n",
       "<style scoped>\n",
       "    .dataframe tbody tr th:only-of-type {\n",
       "        vertical-align: middle;\n",
       "    }\n",
       "\n",
       "    .dataframe tbody tr th {\n",
       "        vertical-align: top;\n",
       "    }\n",
       "\n",
       "    .dataframe thead th {\n",
       "        text-align: right;\n",
       "    }\n",
       "</style>\n",
       "<table border=\"1\" class=\"dataframe\">\n",
       "  <thead>\n",
       "    <tr style=\"text-align: right;\">\n",
       "      <th></th>\n",
       "      <th>word</th>\n",
       "      <th>frequency</th>\n",
       "      <th>word_or</th>\n",
       "      <th>frequency_or</th>\n",
       "    </tr>\n",
       "  </thead>\n",
       "  <tbody>\n",
       "    <tr>\n",
       "      <th>0</th>\n",
       "      <td>thi</td>\n",
       "      <td>21021</td>\n",
       "      <td>thi</td>\n",
       "      <td>16492</td>\n",
       "    </tr>\n",
       "    <tr>\n",
       "      <th>1</th>\n",
       "      <td>veri</td>\n",
       "      <td>11514</td>\n",
       "      <td>wa</td>\n",
       "      <td>8598</td>\n",
       "    </tr>\n",
       "    <tr>\n",
       "      <th>2</th>\n",
       "      <td>wa</td>\n",
       "      <td>10866</td>\n",
       "      <td>one</td>\n",
       "      <td>5403</td>\n",
       "    </tr>\n",
       "    <tr>\n",
       "      <th>3</th>\n",
       "      <td>love</td>\n",
       "      <td>9461</td>\n",
       "      <td>love</td>\n",
       "      <td>4728</td>\n",
       "    </tr>\n",
       "    <tr>\n",
       "      <th>4</th>\n",
       "      <td>great</td>\n",
       "      <td>8386</td>\n",
       "      <td>book</td>\n",
       "      <td>4697</td>\n",
       "    </tr>\n",
       "    <tr>\n",
       "      <th>5</th>\n",
       "      <td>book</td>\n",
       "      <td>8375</td>\n",
       "      <td>like</td>\n",
       "      <td>4630</td>\n",
       "    </tr>\n",
       "    <tr>\n",
       "      <th>6</th>\n",
       "      <td>good</td>\n",
       "      <td>6976</td>\n",
       "      <td>use</td>\n",
       "      <td>4422</td>\n",
       "    </tr>\n",
       "    <tr>\n",
       "      <th>7</th>\n",
       "      <td>one</td>\n",
       "      <td>5760</td>\n",
       "      <td>great</td>\n",
       "      <td>4366</td>\n",
       "    </tr>\n",
       "    <tr>\n",
       "      <th>8</th>\n",
       "      <td>read</td>\n",
       "      <td>5506</td>\n",
       "      <td>veri</td>\n",
       "      <td>4337</td>\n",
       "    </tr>\n",
       "    <tr>\n",
       "      <th>9</th>\n",
       "      <td>stori</td>\n",
       "      <td>5190</td>\n",
       "      <td>good</td>\n",
       "      <td>3592</td>\n",
       "    </tr>\n",
       "    <tr>\n",
       "      <th>10</th>\n",
       "      <td>use</td>\n",
       "      <td>4901</td>\n",
       "      <td>get</td>\n",
       "      <td>3568</td>\n",
       "    </tr>\n",
       "    <tr>\n",
       "      <th>11</th>\n",
       "      <td>like</td>\n",
       "      <td>4797</td>\n",
       "      <td>work</td>\n",
       "      <td>3435</td>\n",
       "    </tr>\n",
       "    <tr>\n",
       "      <th>12</th>\n",
       "      <td>well</td>\n",
       "      <td>4770</td>\n",
       "      <td>well</td>\n",
       "      <td>3263</td>\n",
       "    </tr>\n",
       "    <tr>\n",
       "      <th>13</th>\n",
       "      <td>would</td>\n",
       "      <td>4456</td>\n",
       "      <td>read</td>\n",
       "      <td>3235</td>\n",
       "    </tr>\n",
       "    <tr>\n",
       "      <th>14</th>\n",
       "      <td>littl</td>\n",
       "      <td>3980</td>\n",
       "      <td>would</td>\n",
       "      <td>3229</td>\n",
       "    </tr>\n",
       "  </tbody>\n",
       "</table>\n",
       "</div>"
      ],
      "text/plain": [
       "     word  frequency word_or  frequency_or\n",
       "0     thi      21021     thi         16492\n",
       "1    veri      11514      wa          8598\n",
       "2      wa      10866     one          5403\n",
       "3    love       9461    love          4728\n",
       "4   great       8386    book          4697\n",
       "5    book       8375    like          4630\n",
       "6    good       6976     use          4422\n",
       "7     one       5760   great          4366\n",
       "8    read       5506    veri          4337\n",
       "9   stori       5190    good          3592\n",
       "10    use       4901     get          3568\n",
       "11   like       4797    work          3435\n",
       "12   well       4770    well          3263\n",
       "13  would       4456    read          3235\n",
       "14  littl       3980   would          3229"
      ]
     },
     "execution_count": 207,
     "metadata": {},
     "output_type": "execute_result"
    }
   ],
   "source": [
    "df_cg"
   ]
  },
  {
   "cell_type": "code",
   "execution_count": 208,
   "id": "0521512d",
   "metadata": {},
   "outputs": [
    {
     "data": {
      "text/plain": [
       "Text(0.5, 1.0, 'The top 15 common words in original reviews')"
      ]
     },
     "execution_count": 208,
     "metadata": {},
     "output_type": "execute_result"
    },
    {
     "data": {
      "image/png": "[encoded data removed]",
      "text/plain": [
       "<Figure size 864x576 with 1 Axes>"
      ]
     },
     "metadata": {
      "needs_background": "light"
     },
     "output_type": "display_data"
    }
   ],
   "source": [
    "plt.figure(figsize=(12,8))\n",
    "sns.barplot(x=\"word_or\", y=\"frequency_or\", data=df_cg)\n",
    "plt.title('The top 15 common words in original reviews')"
   ]
  },
  {
   "cell_type": "code",
   "execution_count": 111,
   "id": "5fb6bffa",
   "metadata": {},
   "outputs": [],
   "source": [
    "#df_cg.to_csv('df_cg.csv')"
   ]
  },
  {
   "cell_type": "markdown",
   "id": "e31e9722",
   "metadata": {},
   "source": [
    "# NLP"
   ]
  },
  {
   "cell_type": "code",
   "execution_count": 19,
   "id": "f59ad72c",
   "metadata": {},
   "outputs": [],
   "source": [
    "from nltk.probability import FreqDist"
   ]
  },
  {
   "cell_type": "code",
   "execution_count": 20,
   "id": "2f5ecfdf",
   "metadata": {},
   "outputs": [],
   "source": [
    "list_of_words = data_sample[\"text_processed\"].tolist()\n",
    "list_of_words\n",
    "\n",
    "# Create one list of all words\n",
    "bow = []\n",
    "for lists in list_of_words:\n",
    "    for word in lists:\n",
    "        bow.append(word)\n",
    "#print(bow)\n",
    "\n",
    "# Create frequency with words\n",
    "freq_dist = FreqDist(bow)\n",
    "top_5000 = freq_dist.most_common(5000)"
   ]
  },
  {
   "cell_type": "code",
   "execution_count": 21,
   "id": "b9639b7d",
   "metadata": {},
   "outputs": [],
   "source": [
    "word_features, freq = [[x for x,y in top_5000],\n",
    "      [y for x,y in top_5000]]"
   ]
  },
  {
   "cell_type": "code",
   "execution_count": 22,
   "id": "d352b67a",
   "metadata": {},
   "outputs": [
    {
     "name": "stdout",
     "output_type": "stream",
     "text": [
      "CPU times: total: 8min 4s\n",
      "Wall time: 8min 20s\n"
     ]
    },
    {
     "data": {
      "text/plain": [
       "10000"
      ]
     },
     "execution_count": 22,
     "metadata": {},
     "output_type": "execute_result"
    }
   ],
   "source": [
    "%%time\n",
    "def find_features(lst, bow):\n",
    "    word_features=list(bow)\n",
    "    words = set(lst)\n",
    "    features = {}\n",
    "    for w in word_features:\n",
    "        features[w] = (w in words)\n",
    "    return features\n",
    "\n",
    "word_features\n",
    "features=[]\n",
    "for i,l in enumerate(data_sample[\"text_processed\"]):\n",
    "    s=[find_features(l,bow),data_sample[\"label\"].iloc[i]]\n",
    "    z=tuple(s)\n",
    "    features.append(z)\n",
    "len(features)"
   ]
  },
  {
   "cell_type": "code",
   "execution_count": 23,
   "id": "0a8d7cd7",
   "metadata": {},
   "outputs": [],
   "source": [
    "#train test split"
   ]
  },
  {
   "cell_type": "code",
   "execution_count": 24,
   "id": "af762159",
   "metadata": {},
   "outputs": [],
   "source": [
    "train_set, test_set = features[5000:], features[:5000]"
   ]
  },
  {
   "cell_type": "code",
   "execution_count": 25,
   "id": "423bda00",
   "metadata": {},
   "outputs": [
    {
     "name": "stdout",
     "output_type": "stream",
     "text": [
      "CPU times: total: 1min 42s\n",
      "Wall time: 1min 44s\n"
     ]
    }
   ],
   "source": [
    "%%time\n",
    "classifier = nltk.NaiveBayesClassifier.train(train_set)"
   ]
  },
  {
   "cell_type": "code",
   "execution_count": 26,
   "id": "7b130822",
   "metadata": {},
   "outputs": [
    {
     "name": "stdout",
     "output_type": "stream",
     "text": [
      "Most Informative Features\n",
      "                 sometim = True                1 : 0      =     23.8 : 1.0\n",
      "                    drop = True                1 : 0      =     23.2 : 1.0\n",
      "                     pop = True                1 : 0      =     19.1 : 1.0\n",
      "                    noth = True                1 : 0      =     17.7 : 1.0\n",
      "                   offer = True                1 : 0      =     17.1 : 1.0\n",
      "                    pick = True                1 : 0      =     16.3 : 1.0\n",
      "                 comment = True                1 : 0      =     15.1 : 1.0\n",
      "                    gone = True                1 : 0      =     15.1 : 1.0\n",
      "                    plan = True                1 : 0      =     15.1 : 1.0\n",
      "                unfortun = True                1 : 0      =     15.1 : 1.0\n",
      "                  though = True                1 : 0      =     14.8 : 1.0\n",
      "                   least = True                1 : 0      =     14.5 : 1.0\n",
      "                  measur = True                1 : 0      =     14.4 : 1.0\n",
      "                     pas = True                1 : 0      =     14.4 : 1.0\n",
      "                   spent = True                1 : 0      =     14.4 : 1.0\n"
     ]
    }
   ],
   "source": [
    "classifier.show_most_informative_features(15)"
   ]
  },
  {
   "cell_type": "code",
   "execution_count": 28,
   "id": "c0b8b6a3",
   "metadata": {},
   "outputs": [
    {
     "data": {
      "text/plain": [
       "0.7046"
      ]
     },
     "execution_count": 28,
     "metadata": {},
     "output_type": "execute_result"
    }
   ],
   "source": [
    "#nltk.classify.accuracy(classifier, test_set)"
   ]
  },
  {
   "cell_type": "code",
   "execution_count": 29,
   "id": "6858965b",
   "metadata": {},
   "outputs": [],
   "source": [
    "#import pickle"
   ]
  },
  {
   "cell_type": "code",
   "execution_count": 30,
   "id": "9c68d174",
   "metadata": {},
   "outputs": [],
   "source": [
    "#import pickle\n",
    "\n",
    "#pickle.dump(classifier, open('model_text.p', 'wb'))"
   ]
  },
  {
   "cell_type": "code",
   "execution_count": 33,
   "id": "d950b1b6",
   "metadata": {},
   "outputs": [],
   "source": [
    "#file=open(r'C:\\Users\\Admin\\IH-Labs\\final-project\\list.bin','wb')\n",
    "#pickle.dump(word_features,file)\n",
    "#file.close()"
   ]
  },
  {
   "cell_type": "markdown",
   "id": "88b83a1a",
   "metadata": {},
   "source": [
    "# Use the classifier model to label the new dataset"
   ]
  },
  {
   "cell_type": "code",
   "execution_count": null,
   "id": "6228afe9",
   "metadata": {},
   "outputs": [],
   "source": [
    "#import verified dataset"
   ]
  },
  {
   "cell_type": "code",
   "execution_count": 9,
   "id": "5b0f55a0",
   "metadata": {},
   "outputs": [],
   "source": [
    "validated_data=pd.read_csv(r'C:\\Users\\Admin\\IH-Labs\\Bootcamp_final_project\\csv_file\\Amazon_web_scrapping.csv')"
   ]
  },
  {
   "cell_type": "code",
   "execution_count": 10,
   "id": "e143c0b0",
   "metadata": {},
   "outputs": [],
   "source": [
    "validated_data=validated_data.drop('Unnamed: 0',axis=1)"
   ]
  },
  {
   "cell_type": "code",
   "execution_count": 11,
   "id": "d3eec241",
   "metadata": {},
   "outputs": [
    {
     "data": {
      "text/html": [
       "<div>\n",
       "<style scoped>\n",
       "    .dataframe tbody tr th:only-of-type {\n",
       "        vertical-align: middle;\n",
       "    }\n",
       "\n",
       "    .dataframe tbody tr th {\n",
       "        vertical-align: top;\n",
       "    }\n",
       "\n",
       "    .dataframe thead th {\n",
       "        text-align: right;\n",
       "    }\n",
       "</style>\n",
       "<table border=\"1\" class=\"dataframe\">\n",
       "  <thead>\n",
       "    <tr style=\"text-align: right;\">\n",
       "      <th></th>\n",
       "      <th>text</th>\n",
       "    </tr>\n",
       "  </thead>\n",
       "  <tbody>\n",
       "    <tr>\n",
       "      <th>0</th>\n",
       "      <td>The phone I received was by all estimations br...</td>\n",
       "    </tr>\n",
       "    <tr>\n",
       "      <th>1</th>\n",
       "      <td>I purchased this phone with the intent of havi...</td>\n",
       "    </tr>\n",
       "    <tr>\n",
       "      <th>2</th>\n",
       "      <td>This is my 2nd used iphone Ive gotten from Ama...</td>\n",
       "    </tr>\n",
       "    <tr>\n",
       "      <th>3</th>\n",
       "      <td>I’ve had the phone for almost 10 months now an...</td>\n",
       "    </tr>\n",
       "    <tr>\n",
       "      <th>4</th>\n",
       "      <td>I asked for my phone to be renewed fairly okay...</td>\n",
       "    </tr>\n",
       "    <tr>\n",
       "      <th>...</th>\n",
       "      <td>...</td>\n",
       "    </tr>\n",
       "    <tr>\n",
       "      <th>4995</th>\n",
       "      <td>the phone is as neat as a brand new one which ...</td>\n",
       "    </tr>\n",
       "    <tr>\n",
       "      <th>4996</th>\n",
       "      <td>Everything works great!!! 5 out of 5 stars!!</td>\n",
       "    </tr>\n",
       "    <tr>\n",
       "      <th>4997</th>\n",
       "      <td>Came with gorilla glass on the screen great qu...</td>\n",
       "    </tr>\n",
       "    <tr>\n",
       "      <th>4998</th>\n",
       "      <td>I was lukewarm about buying this phone but I a...</td>\n",
       "    </tr>\n",
       "    <tr>\n",
       "      <th>4999</th>\n",
       "      <td>It’s safe just buy it( I bought it after savin...</td>\n",
       "    </tr>\n",
       "  </tbody>\n",
       "</table>\n",
       "<p>5000 rows × 1 columns</p>\n",
       "</div>"
      ],
      "text/plain": [
       "                                                   text\n",
       "0     The phone I received was by all estimations br...\n",
       "1     I purchased this phone with the intent of havi...\n",
       "2     This is my 2nd used iphone Ive gotten from Ama...\n",
       "3     I’ve had the phone for almost 10 months now an...\n",
       "4     I asked for my phone to be renewed fairly okay...\n",
       "...                                                 ...\n",
       "4995  the phone is as neat as a brand new one which ...\n",
       "4996       Everything works great!!! 5 out of 5 stars!!\n",
       "4997  Came with gorilla glass on the screen great qu...\n",
       "4998  I was lukewarm about buying this phone but I a...\n",
       "4999  It’s safe just buy it( I bought it after savin...\n",
       "\n",
       "[5000 rows x 1 columns]"
      ]
     },
     "execution_count": 11,
     "metadata": {},
     "output_type": "execute_result"
    }
   ],
   "source": [
    "validated_data"
   ]
  },
  {
   "cell_type": "code",
   "execution_count": 113,
   "id": "1da771f3",
   "metadata": {
    "scrolled": true
   },
   "outputs": [
    {
     "name": "stdout",
     "output_type": "stream",
     "text": [
      "1 done\n",
      "CPU times: total: 0 ns\n",
      "Wall time: 2 ms\n"
     ]
    },
    {
     "data": {
      "text/html": [
       "<div>\n",
       "<style scoped>\n",
       "    .dataframe tbody tr th:only-of-type {\n",
       "        vertical-align: middle;\n",
       "    }\n",
       "\n",
       "    .dataframe tbody tr th {\n",
       "        vertical-align: top;\n",
       "    }\n",
       "\n",
       "    .dataframe thead th {\n",
       "        text-align: right;\n",
       "    }\n",
       "</style>\n",
       "<table border=\"1\" class=\"dataframe\">\n",
       "  <thead>\n",
       "    <tr style=\"text-align: right;\">\n",
       "      <th></th>\n",
       "      <th>text</th>\n",
       "      <th>text_processed</th>\n",
       "    </tr>\n",
       "  </thead>\n",
       "  <tbody>\n",
       "    <tr>\n",
       "      <th>0</th>\n",
       "      <td>sesuai deskripsi mantap.👍</td>\n",
       "      <td>sesuai deskripsi mantap</td>\n",
       "    </tr>\n",
       "    <tr>\n",
       "      <th>1</th>\n",
       "      <td>Have a nice day.  I announced my order for tod...</td>\n",
       "      <td>have a nice day i announced my order for today...</td>\n",
       "    </tr>\n",
       "    <tr>\n",
       "      <th>2</th>\n",
       "      <td>Really pleased with the phone... Came in beaut...</td>\n",
       "      <td>really pleased with the phone came in beautifu...</td>\n",
       "    </tr>\n",
       "    <tr>\n",
       "      <th>3</th>\n",
       "      <td>Werry good servis. Phone samsung galaxy s21 ul...</td>\n",
       "      <td>werry good servis phone samsung galaxy s ultra...</td>\n",
       "    </tr>\n",
       "    <tr>\n",
       "      <th>4</th>\n",
       "      <td>very happy with this purchase</td>\n",
       "      <td>very happy with this purchase</td>\n",
       "    </tr>\n",
       "  </tbody>\n",
       "</table>\n",
       "</div>"
      ],
      "text/plain": [
       "                                                text  \\\n",
       "0                          sesuai deskripsi mantap.👍   \n",
       "1  Have a nice day.  I announced my order for tod...   \n",
       "2  Really pleased with the phone... Came in beaut...   \n",
       "3  Werry good servis. Phone samsung galaxy s21 ul...   \n",
       "4                      very happy with this purchase   \n",
       "\n",
       "                                      text_processed  \n",
       "0                            sesuai deskripsi mantap  \n",
       "1  have a nice day i announced my order for today...  \n",
       "2  really pleased with the phone came in beautifu...  \n",
       "3  werry good servis phone samsung galaxy s ultra...  \n",
       "4                      very happy with this purchase  "
      ]
     },
     "execution_count": 113,
     "metadata": {},
     "output_type": "execute_result"
    }
   ],
   "source": [
    "%%time\n",
    "validated_data[\"text_processed\"]=validated_data[\"text\"].apply(clean_up)\n",
    "print('1 done')\n",
    "\n",
    "validated_data.head()"
   ]
  },
  {
   "cell_type": "code",
   "execution_count": 114,
   "id": "6b2758dc",
   "metadata": {},
   "outputs": [
    {
     "name": "stdout",
     "output_type": "stream",
     "text": [
      "1 done\n",
      "2 done\n",
      "CPU times: total: 31.2 ms\n",
      "Wall time: 41 ms\n"
     ]
    },
    {
     "data": {
      "text/html": [
       "<div>\n",
       "<style scoped>\n",
       "    .dataframe tbody tr th:only-of-type {\n",
       "        vertical-align: middle;\n",
       "    }\n",
       "\n",
       "    .dataframe tbody tr th {\n",
       "        vertical-align: top;\n",
       "    }\n",
       "\n",
       "    .dataframe thead th {\n",
       "        text-align: right;\n",
       "    }\n",
       "</style>\n",
       "<table border=\"1\" class=\"dataframe\">\n",
       "  <thead>\n",
       "    <tr style=\"text-align: right;\">\n",
       "      <th></th>\n",
       "      <th>text</th>\n",
       "      <th>text_processed</th>\n",
       "    </tr>\n",
       "  </thead>\n",
       "  <tbody>\n",
       "    <tr>\n",
       "      <th>0</th>\n",
       "      <td>sesuai deskripsi mantap.👍</td>\n",
       "      <td>[sesuai, deskripsi, mantap]</td>\n",
       "    </tr>\n",
       "    <tr>\n",
       "      <th>1</th>\n",
       "      <td>Have a nice day.  I announced my order for tod...</td>\n",
       "      <td>[nice, day, announc, order, today, order, numb...</td>\n",
       "    </tr>\n",
       "    <tr>\n",
       "      <th>2</th>\n",
       "      <td>Really pleased with the phone... Came in beaut...</td>\n",
       "      <td>[realli, plea, phone, came, beauti, condit, new]</td>\n",
       "    </tr>\n",
       "    <tr>\n",
       "      <th>3</th>\n",
       "      <td>Werry good servis. Phone samsung galaxy s21 ul...</td>\n",
       "      <td>[werri, good, servi, phone, samsung, galaxi, u...</td>\n",
       "    </tr>\n",
       "    <tr>\n",
       "      <th>4</th>\n",
       "      <td>very happy with this purchase</td>\n",
       "      <td>[veri, happi, thi, purchas]</td>\n",
       "    </tr>\n",
       "  </tbody>\n",
       "</table>\n",
       "</div>"
      ],
      "text/plain": [
       "                                                text  \\\n",
       "0                          sesuai deskripsi mantap.👍   \n",
       "1  Have a nice day.  I announced my order for tod...   \n",
       "2  Really pleased with the phone... Came in beaut...   \n",
       "3  Werry good servis. Phone samsung galaxy s21 ul...   \n",
       "4                      very happy with this purchase   \n",
       "\n",
       "                                      text_processed  \n",
       "0                        [sesuai, deskripsi, mantap]  \n",
       "1  [nice, day, announc, order, today, order, numb...  \n",
       "2   [realli, plea, phone, came, beauti, condit, new]  \n",
       "3  [werri, good, servi, phone, samsung, galaxi, u...  \n",
       "4                        [veri, happi, thi, purchas]  "
      ]
     },
     "execution_count": 114,
     "metadata": {},
     "output_type": "execute_result"
    }
   ],
   "source": [
    "%%time\n",
    "validated_data['text_processed']=validated_data['text_processed'].apply(tokenize)\n",
    "print('1 done')\n",
    "validated_data[\"text_processed\"]=validated_data[\"text_processed\"].apply(stem_and_lemmatize)\n",
    "print('2 done')\n",
    "validated_data[\"text_processed\"]=validated_data[\"text_processed\"].apply(remove_stopwords)\n",
    "\n",
    "validated_data.head()"
   ]
  },
  {
   "cell_type": "code",
   "execution_count": 116,
   "id": "97e00350",
   "metadata": {},
   "outputs": [],
   "source": [
    "def find_features_1(w):\n",
    "\n",
    "    features={}\n",
    "\n",
    "    features[w]=(w in word_features)\n",
    "    return features"
   ]
  },
  {
   "cell_type": "code",
   "execution_count": 125,
   "id": "6d5bdac1",
   "metadata": {
    "scrolled": true
   },
   "outputs": [
    {
     "name": "stdout",
     "output_type": "stream",
     "text": [
      "3   0\n",
      "4   10\n",
      "2   5\n",
      "8   4\n",
      "4   0\n",
      "0   1\n",
      "8   35\n",
      "3   11\n",
      "6   12\n",
      "6   3\n",
      "1   3\n",
      "3   2\n",
      "6   12\n",
      "4   6\n",
      "1   3\n",
      "1   2\n",
      "2   1\n",
      "0   0\n",
      "1   0\n",
      "1   0\n",
      "1   0\n",
      "6   10\n",
      "4   6\n",
      "8   11\n",
      "1   1\n"
     ]
    }
   ],
   "source": [
    "list2=[]\n",
    "for i in range(25):\n",
    "    fake=0\n",
    "    real=0\n",
    "    for j in range(len(validated_data.text_processed.iloc[i])):\n",
    "        classResult = classifier.classify(find_features_1(validated_data.text_processed.iloc[i][j]))\n",
    "        if classResult == 0:\n",
    "            fake=fake+1\n",
    "        else:\n",
    "            real=real+1\n",
    "    print(fake,\" \",real)\n",
    "    if fake>real:\n",
    "        label_test=0\n",
    "    else:\n",
    "        label_test=1\n",
    "    list2.append(label_test)"
   ]
  },
  {
   "cell_type": "code",
   "execution_count": 126,
   "id": "0c401d64",
   "metadata": {},
   "outputs": [],
   "source": [
    "validated_data['label']=pd.DataFrame(list2)"
   ]
  },
  {
   "cell_type": "code",
   "execution_count": 128,
   "id": "5a2cb0ff",
   "metadata": {
    "scrolled": true
   },
   "outputs": [
    {
     "data": {
      "text/html": [
       "<div>\n",
       "<style scoped>\n",
       "    .dataframe tbody tr th:only-of-type {\n",
       "        vertical-align: middle;\n",
       "    }\n",
       "\n",
       "    .dataframe tbody tr th {\n",
       "        vertical-align: top;\n",
       "    }\n",
       "\n",
       "    .dataframe thead th {\n",
       "        text-align: right;\n",
       "    }\n",
       "</style>\n",
       "<table border=\"1\" class=\"dataframe\">\n",
       "  <thead>\n",
       "    <tr style=\"text-align: right;\">\n",
       "      <th></th>\n",
       "      <th>text</th>\n",
       "      <th>text_processed</th>\n",
       "      <th>label</th>\n",
       "    </tr>\n",
       "  </thead>\n",
       "  <tbody>\n",
       "    <tr>\n",
       "      <th>0</th>\n",
       "      <td>sesuai deskripsi mantap.👍</td>\n",
       "      <td>[sesuai, deskripsi, mantap]</td>\n",
       "      <td>0</td>\n",
       "    </tr>\n",
       "    <tr>\n",
       "      <th>1</th>\n",
       "      <td>Have a nice day.  I announced my order for tod...</td>\n",
       "      <td>[nice, day, announc, order, today, order, numb...</td>\n",
       "      <td>1</td>\n",
       "    </tr>\n",
       "    <tr>\n",
       "      <th>2</th>\n",
       "      <td>Really pleased with the phone... Came in beaut...</td>\n",
       "      <td>[realli, plea, phone, came, beauti, condit, new]</td>\n",
       "      <td>1</td>\n",
       "    </tr>\n",
       "    <tr>\n",
       "      <th>3</th>\n",
       "      <td>Werry good servis. Phone samsung galaxy s21 ul...</td>\n",
       "      <td>[werri, good, servi, phone, samsung, galaxi, u...</td>\n",
       "      <td>0</td>\n",
       "    </tr>\n",
       "    <tr>\n",
       "      <th>4</th>\n",
       "      <td>very happy with this purchase</td>\n",
       "      <td>[veri, happi, thi, purchas]</td>\n",
       "      <td>0</td>\n",
       "    </tr>\n",
       "    <tr>\n",
       "      <th>5</th>\n",
       "      <td>Thanks</td>\n",
       "      <td>[thank]</td>\n",
       "      <td>1</td>\n",
       "    </tr>\n",
       "    <tr>\n",
       "      <th>6</th>\n",
       "      <td>Posting this on the 29th. My return option run...</td>\n",
       "      <td>[post, thi, th, return, option, run, st, tri, ...</td>\n",
       "      <td>1</td>\n",
       "    </tr>\n",
       "    <tr>\n",
       "      <th>7</th>\n",
       "      <td>Paid £1000 for a phone, the next day the selle...</td>\n",
       "      <td>[paid, phone, next, day, seller, cancel, order...</td>\n",
       "      <td>1</td>\n",
       "    </tr>\n",
       "    <tr>\n",
       "      <th>8</th>\n",
       "      <td>Lovely phone, had some scratches on the back, ...</td>\n",
       "      <td>[love, phone, scratch, back, seem, new, mark, ...</td>\n",
       "      <td>1</td>\n",
       "    </tr>\n",
       "    <tr>\n",
       "      <th>9</th>\n",
       "      <td>great  very helpful  would recommend them  👍 g...</td>\n",
       "      <td>[great, veri, help, would, recommend, great, s...</td>\n",
       "      <td>0</td>\n",
       "    </tr>\n",
       "    <tr>\n",
       "      <th>10</th>\n",
       "      <td>Quick delivery - working item</td>\n",
       "      <td>[quick, deliveri, work, item]</td>\n",
       "      <td>1</td>\n",
       "    </tr>\n",
       "    <tr>\n",
       "      <th>11</th>\n",
       "      <td>Excellent seller,  highly recommended.  Thank you</td>\n",
       "      <td>[excel, seller, highli, recommend, thank]</td>\n",
       "      <td>0</td>\n",
       "    </tr>\n",
       "    <tr>\n",
       "      <th>12</th>\n",
       "      <td>Excellent communication from seller, barring a...</td>\n",
       "      <td>[excel, commun, seller, bar, issu, caus, couri...</td>\n",
       "      <td>1</td>\n",
       "    </tr>\n",
       "    <tr>\n",
       "      <th>13</th>\n",
       "      <td>Item arrived promptly and excellently packaged...</td>\n",
       "      <td>[item, arriv, promptli, excel, packag, pristin...</td>\n",
       "      <td>1</td>\n",
       "    </tr>\n",
       "    <tr>\n",
       "      <th>14</th>\n",
       "      <td>A recommended seller, many thanks</td>\n",
       "      <td>[recommend, seller, mani, thank]</td>\n",
       "      <td>1</td>\n",
       "    </tr>\n",
       "    <tr>\n",
       "      <th>15</th>\n",
       "      <td>Thank you very much</td>\n",
       "      <td>[thank, veri, much]</td>\n",
       "      <td>1</td>\n",
       "    </tr>\n",
       "    <tr>\n",
       "      <th>16</th>\n",
       "      <td>Great phone thank you</td>\n",
       "      <td>[great, phone, thank]</td>\n",
       "      <td>0</td>\n",
       "    </tr>\n",
       "    <tr>\n",
       "      <th>17</th>\n",
       "      <td>A++++++</td>\n",
       "      <td>[]</td>\n",
       "      <td>1</td>\n",
       "    </tr>\n",
       "    <tr>\n",
       "      <th>18</th>\n",
       "      <td>excellent</td>\n",
       "      <td>[excel]</td>\n",
       "      <td>0</td>\n",
       "    </tr>\n",
       "    <tr>\n",
       "      <th>19</th>\n",
       "      <td>good</td>\n",
       "      <td>[good]</td>\n",
       "      <td>0</td>\n",
       "    </tr>\n",
       "    <tr>\n",
       "      <th>20</th>\n",
       "      <td>EXCELLENT</td>\n",
       "      <td>[excel]</td>\n",
       "      <td>0</td>\n",
       "    </tr>\n",
       "    <tr>\n",
       "      <th>21</th>\n",
       "      <td>really great ebayer excellent communication fa...</td>\n",
       "      <td>[realli, great, ebay, excel, commun, fast, del...</td>\n",
       "      <td>1</td>\n",
       "    </tr>\n",
       "    <tr>\n",
       "      <th>22</th>\n",
       "      <td>It was nice doing business with you and thanks...</td>\n",
       "      <td>[wa, nice, busi, thank, extra, game, seller, g...</td>\n",
       "      <td>1</td>\n",
       "    </tr>\n",
       "    <tr>\n",
       "      <th>23</th>\n",
       "      <td>First class. quality phone in perfect conditio...</td>\n",
       "      <td>[first, class, qualiti, phone, perfect, condit...</td>\n",
       "      <td>1</td>\n",
       "    </tr>\n",
       "    <tr>\n",
       "      <th>24</th>\n",
       "      <td>Great just what I wanted.</td>\n",
       "      <td>[great, want]</td>\n",
       "      <td>1</td>\n",
       "    </tr>\n",
       "  </tbody>\n",
       "</table>\n",
       "</div>"
      ],
      "text/plain": [
       "                                                 text  \\\n",
       "0                           sesuai deskripsi mantap.👍   \n",
       "1   Have a nice day.  I announced my order for tod...   \n",
       "2   Really pleased with the phone... Came in beaut...   \n",
       "3   Werry good servis. Phone samsung galaxy s21 ul...   \n",
       "4                       very happy with this purchase   \n",
       "5                                             Thanks    \n",
       "6   Posting this on the 29th. My return option run...   \n",
       "7   Paid £1000 for a phone, the next day the selle...   \n",
       "8   Lovely phone, had some scratches on the back, ...   \n",
       "9   great  very helpful  would recommend them  👍 g...   \n",
       "10                      Quick delivery - working item   \n",
       "11  Excellent seller,  highly recommended.  Thank you   \n",
       "12  Excellent communication from seller, barring a...   \n",
       "13  Item arrived promptly and excellently packaged...   \n",
       "14                  A recommended seller, many thanks   \n",
       "15                               Thank you very much    \n",
       "16                             Great phone thank you    \n",
       "17                                            A++++++   \n",
       "18                                         excellent    \n",
       "19                                              good    \n",
       "20                                          EXCELLENT   \n",
       "21  really great ebayer excellent communication fa...   \n",
       "22  It was nice doing business with you and thanks...   \n",
       "23  First class. quality phone in perfect conditio...   \n",
       "24                         Great just what I wanted.    \n",
       "\n",
       "                                       text_processed  label  \n",
       "0                         [sesuai, deskripsi, mantap]      0  \n",
       "1   [nice, day, announc, order, today, order, numb...      1  \n",
       "2    [realli, plea, phone, came, beauti, condit, new]      1  \n",
       "3   [werri, good, servi, phone, samsung, galaxi, u...      0  \n",
       "4                         [veri, happi, thi, purchas]      0  \n",
       "5                                             [thank]      1  \n",
       "6   [post, thi, th, return, option, run, st, tri, ...      1  \n",
       "7   [paid, phone, next, day, seller, cancel, order...      1  \n",
       "8   [love, phone, scratch, back, seem, new, mark, ...      1  \n",
       "9   [great, veri, help, would, recommend, great, s...      0  \n",
       "10                      [quick, deliveri, work, item]      1  \n",
       "11          [excel, seller, highli, recommend, thank]      0  \n",
       "12  [excel, commun, seller, bar, issu, caus, couri...      1  \n",
       "13  [item, arriv, promptli, excel, packag, pristin...      1  \n",
       "14                   [recommend, seller, mani, thank]      1  \n",
       "15                                [thank, veri, much]      1  \n",
       "16                              [great, phone, thank]      0  \n",
       "17                                                 []      1  \n",
       "18                                            [excel]      0  \n",
       "19                                             [good]      0  \n",
       "20                                            [excel]      0  \n",
       "21  [realli, great, ebay, excel, commun, fast, del...      1  \n",
       "22  [wa, nice, busi, thank, extra, game, seller, g...      1  \n",
       "23  [first, class, qualiti, phone, perfect, condit...      1  \n",
       "24                                      [great, want]      1  "
      ]
     },
     "execution_count": 128,
     "metadata": {},
     "output_type": "execute_result"
    }
   ],
   "source": [
    "validated_data"
   ]
  }
 ],
 "metadata": {
  "kernelspec": {
   "display_name": "Python 3 (ipykernel)",
   "language": "python",
   "name": "python3"
  },
  "language_info": {
   "codemirror_mode": {
    "name": "ipython",
    "version": 3
   },
   "file_extension": ".py",
   "mimetype": "text/x-python",
   "name": "python",
   "nbconvert_exporter": "python",
   "pygments_lexer": "ipython3",
   "version": "3.9.12"
  }
 },
 "nbformat": 4,
 "nbformat_minor": 5
}
